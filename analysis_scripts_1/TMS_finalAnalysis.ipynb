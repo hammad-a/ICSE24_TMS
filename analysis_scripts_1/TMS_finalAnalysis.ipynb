{
  "nbformat": 4,
  "nbformat_minor": 0,
  "metadata": {
    "colab": {
      "provenance": []
    },
    "kernelspec": {
      "name": "python3",
      "display_name": "Python 3"
    },
    "language_info": {
      "name": "python"
    }
  },
  "cells": [
    {
      "cell_type": "code",
      "source": [
        "!pip install pingouin"
      ],
      "metadata": {
        "id": "clvr2gGRiWqg",
        "colab": {
          "base_uri": "https://localhost:8080/"
        },
        "outputId": "a1b86fd0-75e3-4474-90aa-1648b0b5e26b"
      },
      "execution_count": null,
      "outputs": [
        {
          "output_type": "stream",
          "name": "stdout",
          "text": [
            "Collecting pingouin\n",
            "  Downloading pingouin-0.5.3-py3-none-any.whl (198 kB)\n",
            "\u001b[2K     \u001b[90m━━━━━━━━━━━━━━━━━━━━━━━━━━━━━━━━━━━━━━━\u001b[0m \u001b[32m198.6/198.6 kB\u001b[0m \u001b[31m1.4 MB/s\u001b[0m eta \u001b[36m0:00:00\u001b[0m\n",
            "\u001b[?25hRequirement already satisfied: numpy>=1.19 in /usr/local/lib/python3.10/dist-packages (from pingouin) (1.22.4)\n",
            "Requirement already satisfied: scipy>=1.7 in /usr/local/lib/python3.10/dist-packages (from pingouin) (1.10.1)\n",
            "Requirement already satisfied: pandas>=1.0 in /usr/local/lib/python3.10/dist-packages (from pingouin) (1.5.3)\n",
            "Requirement already satisfied: matplotlib>=3.0.2 in /usr/local/lib/python3.10/dist-packages (from pingouin) (3.7.1)\n",
            "Requirement already satisfied: seaborn>=0.11 in /usr/local/lib/python3.10/dist-packages (from pingouin) (0.12.2)\n",
            "Requirement already satisfied: statsmodels>=0.13 in /usr/local/lib/python3.10/dist-packages (from pingouin) (0.13.5)\n",
            "Requirement already satisfied: scikit-learn in /usr/local/lib/python3.10/dist-packages (from pingouin) (1.2.2)\n",
            "Collecting pandas-flavor>=0.2.0 (from pingouin)\n",
            "  Downloading pandas_flavor-0.6.0-py3-none-any.whl (7.2 kB)\n",
            "Collecting outdated (from pingouin)\n",
            "  Downloading outdated-0.2.2-py2.py3-none-any.whl (7.5 kB)\n",
            "Requirement already satisfied: tabulate in /usr/local/lib/python3.10/dist-packages (from pingouin) (0.9.0)\n",
            "Requirement already satisfied: contourpy>=1.0.1 in /usr/local/lib/python3.10/dist-packages (from matplotlib>=3.0.2->pingouin) (1.1.0)\n",
            "Requirement already satisfied: cycler>=0.10 in /usr/local/lib/python3.10/dist-packages (from matplotlib>=3.0.2->pingouin) (0.11.0)\n",
            "Requirement already satisfied: fonttools>=4.22.0 in /usr/local/lib/python3.10/dist-packages (from matplotlib>=3.0.2->pingouin) (4.41.1)\n",
            "Requirement already satisfied: kiwisolver>=1.0.1 in /usr/local/lib/python3.10/dist-packages (from matplotlib>=3.0.2->pingouin) (1.4.4)\n",
            "Requirement already satisfied: packaging>=20.0 in /usr/local/lib/python3.10/dist-packages (from matplotlib>=3.0.2->pingouin) (23.1)\n",
            "Requirement already satisfied: pillow>=6.2.0 in /usr/local/lib/python3.10/dist-packages (from matplotlib>=3.0.2->pingouin) (9.4.0)\n",
            "Requirement already satisfied: pyparsing>=2.3.1 in /usr/local/lib/python3.10/dist-packages (from matplotlib>=3.0.2->pingouin) (3.1.0)\n",
            "Requirement already satisfied: python-dateutil>=2.7 in /usr/local/lib/python3.10/dist-packages (from matplotlib>=3.0.2->pingouin) (2.8.2)\n",
            "Requirement already satisfied: pytz>=2020.1 in /usr/local/lib/python3.10/dist-packages (from pandas>=1.0->pingouin) (2022.7.1)\n",
            "Requirement already satisfied: xarray in /usr/local/lib/python3.10/dist-packages (from pandas-flavor>=0.2.0->pingouin) (2022.12.0)\n",
            "Requirement already satisfied: patsy>=0.5.2 in /usr/local/lib/python3.10/dist-packages (from statsmodels>=0.13->pingouin) (0.5.3)\n",
            "Requirement already satisfied: setuptools>=44 in /usr/local/lib/python3.10/dist-packages (from outdated->pingouin) (67.7.2)\n",
            "Collecting littleutils (from outdated->pingouin)\n",
            "  Downloading littleutils-0.2.2.tar.gz (6.6 kB)\n",
            "  Preparing metadata (setup.py) ... \u001b[?25l\u001b[?25hdone\n",
            "Requirement already satisfied: requests in /usr/local/lib/python3.10/dist-packages (from outdated->pingouin) (2.27.1)\n",
            "Requirement already satisfied: joblib>=1.1.1 in /usr/local/lib/python3.10/dist-packages (from scikit-learn->pingouin) (1.3.1)\n",
            "Requirement already satisfied: threadpoolctl>=2.0.0 in /usr/local/lib/python3.10/dist-packages (from scikit-learn->pingouin) (3.2.0)\n",
            "Requirement already satisfied: six in /usr/local/lib/python3.10/dist-packages (from patsy>=0.5.2->statsmodels>=0.13->pingouin) (1.16.0)\n",
            "Requirement already satisfied: urllib3<1.27,>=1.21.1 in /usr/local/lib/python3.10/dist-packages (from requests->outdated->pingouin) (1.26.16)\n",
            "Requirement already satisfied: certifi>=2017.4.17 in /usr/local/lib/python3.10/dist-packages (from requests->outdated->pingouin) (2023.7.22)\n",
            "Requirement already satisfied: charset-normalizer~=2.0.0 in /usr/local/lib/python3.10/dist-packages (from requests->outdated->pingouin) (2.0.12)\n",
            "Requirement already satisfied: idna<4,>=2.5 in /usr/local/lib/python3.10/dist-packages (from requests->outdated->pingouin) (3.4)\n",
            "Building wheels for collected packages: littleutils\n",
            "  Building wheel for littleutils (setup.py) ... \u001b[?25l\u001b[?25hdone\n",
            "  Created wheel for littleutils: filename=littleutils-0.2.2-py3-none-any.whl size=7028 sha256=ec892b4094e845c4a869c40e8fa48cc00333c1dca11b28f8a6d73599e8d3dc3b\n",
            "  Stored in directory: /root/.cache/pip/wheels/3d/fe/b0/27a9892da57472e538c7452a721a9cf463cc03cf7379889266\n",
            "Successfully built littleutils\n",
            "Installing collected packages: littleutils, outdated, pandas-flavor, pingouin\n",
            "Successfully installed littleutils-0.2.2 outdated-0.2.2 pandas-flavor-0.6.0 pingouin-0.5.3\n"
          ]
        }
      ]
    },
    {
      "cell_type": "code",
      "execution_count": null,
      "metadata": {
        "id": "cwvxunbpQXb0"
      },
      "outputs": [],
      "source": [
        "import pandas as pd\n",
        "import matplotlib.pyplot as plt\n",
        "import seaborn as sns\n",
        "import pingouin as pg\n",
        "from scipy.stats import tukey_hsd\n",
        "import scipy.stats as stats\n",
        "from scipy.stats import spearmanr\n",
        "import statsmodels.api as sm\n",
        "from statsmodels.formula.api import ols\n",
        "\n"
      ]
    },
    {
      "cell_type": "markdown",
      "source": [
        "## Pull in TMS data sheet consisting of trials\n",
        "\n",
        "This data sheet is organized to contain response times and accuracy score for every problem viewed by any given participant. If a participant did not see a problem, it was not included in the data sheet. Each row represents a problem viewed and solved by a participant. Each row therefore contains participant ID, treatment types (coded as A,B,C where A is for M1 region treatment, B is SMA treatment, and C is our active control), stimuli version (1,2,3) problem number order, problem (name of stimuli), problem type (array, mental, coding, trees), response time, accuracy, session number (1,2,3), percieved mental rotation difficult of the current session, percieved program task difficulty of the current session, percived changes in difficulty for mental rotations of the current session, percived changes in difficulty for programming tasks of the current session, age, gender, occupation, years of programming experiance, and number of programming languages known."
      ],
      "metadata": {
        "id": "AciDVwsMi6U8"
      }
    },
    {
      "cell_type": "code",
      "source": [
        "\n",
        "df = pd.read_csv(\"TMSdata.csv\")\n",
        "\n",
        "df"
      ],
      "metadata": {
        "colab": {
          "base_uri": "https://localhost:8080/",
          "height": 922
        },
        "id": "EgvgbVt7Qr19",
        "outputId": "2756ca49-daee-4a48-f668-a46f6dbccd4e"
      },
      "execution_count": null,
      "outputs": [
        {
          "output_type": "execute_result",
          "data": {
            "text/plain": [
              "          ID treatment   version  problemNumber  problem problemType  \\\n",
              "0     p32420         A  version1             48  205.bmp       ARRAY   \n",
              "1     p32420         A  version1             50    6.BMP       ARRAY   \n",
              "2     p32420         A  version1             18   24.BMP       ARRAY   \n",
              "3     p32420         A  version1             38   10.BMP       ARRAY   \n",
              "4     p32420         A  version1             33  201.bmp       ARRAY   \n",
              "...      ...       ...       ...            ...      ...         ...   \n",
              "2746  p04012         A  version2             31  320.bmp        TREE   \n",
              "2747  p04012         A  version2             47  323.bmp        TREE   \n",
              "2748  p04012         A  version2             48  325.bmp      CODING   \n",
              "2749  p04012         A  version2              5  329.bmp       ARRAY   \n",
              "2750  p04012         A  version2             39  332.bmp      CODING   \n",
              "\n",
              "      responseTime  accuracy  sessionNo  mrDifficulty changeMrDifficulty  \\\n",
              "0         9.205110         1        NaN           NaN                NaN   \n",
              "1         5.005046         0        NaN           NaN                NaN   \n",
              "2         2.689130         0        NaN           NaN                NaN   \n",
              "3         4.440007         0        NaN           NaN                NaN   \n",
              "4        11.836844         1        NaN           NaN                NaN   \n",
              "...            ...       ...        ...           ...                ...   \n",
              "2746     57.775143         0        1.0           1.0                NaN   \n",
              "2747     35.931511         1        1.0           1.0                NaN   \n",
              "2748    111.818344         1        1.0           1.0                NaN   \n",
              "2749     44.184052         1        1.0           1.0                NaN   \n",
              "2750     82.160782         1        1.0           1.0                NaN   \n",
              "\n",
              "      programDifficulty changeProgramDifficulty   age  gender   race  \\\n",
              "0                   NaN                     NaN  27.0  Female  Asian   \n",
              "1                   NaN                     NaN  27.0  Female  Asian   \n",
              "2                   NaN                     NaN  27.0  Female  Asian   \n",
              "3                   NaN                     NaN  27.0  Female  Asian   \n",
              "4                   NaN                     NaN  27.0  Female  Asian   \n",
              "...                 ...                     ...   ...     ...    ...   \n",
              "2746                3.0                     NaN  23.0    Male  White   \n",
              "2747                3.0                     NaN  23.0    Male  White   \n",
              "2748                3.0                     NaN  23.0    Male  White   \n",
              "2749                3.0                     NaN  23.0    Male  White   \n",
              "2750                3.0                     NaN  23.0    Male  White   \n",
              "\n",
              "                                             occupation  yearsProgramming  \\\n",
              "0     Part-time or full-tume job that does not invol...               3.0   \n",
              "1     Part-time or full-tume job that does not invol...               3.0   \n",
              "2     Part-time or full-tume job that does not invol...               3.0   \n",
              "3     Part-time or full-tume job that does not invol...               3.0   \n",
              "4     Part-time or full-tume job that does not invol...               3.0   \n",
              "...                                                 ...               ...   \n",
              "2746            Full-time job that involves programming               6.0   \n",
              "2747            Full-time job that involves programming               6.0   \n",
              "2748            Full-time job that involves programming               6.0   \n",
              "2749            Full-time job that involves programming               6.0   \n",
              "2750            Full-time job that involves programming               6.0   \n",
              "\n",
              "      numPL  \n",
              "0       2.0  \n",
              "1       2.0  \n",
              "2       2.0  \n",
              "3       2.0  \n",
              "4       2.0  \n",
              "...     ...  \n",
              "2746    1.0  \n",
              "2747    1.0  \n",
              "2748    1.0  \n",
              "2749    1.0  \n",
              "2750    1.0  \n",
              "\n",
              "[2751 rows x 19 columns]"
            ],
            "text/html": [
              "\n",
              "\n",
              "  <div id=\"df-9e3dfd4e-714c-4413-a825-8a7bff37f3be\">\n",
              "    <div class=\"colab-df-container\">\n",
              "      <div>\n",
              "<style scoped>\n",
              "    .dataframe tbody tr th:only-of-type {\n",
              "        vertical-align: middle;\n",
              "    }\n",
              "\n",
              "    .dataframe tbody tr th {\n",
              "        vertical-align: top;\n",
              "    }\n",
              "\n",
              "    .dataframe thead th {\n",
              "        text-align: right;\n",
              "    }\n",
              "</style>\n",
              "<table border=\"1\" class=\"dataframe\">\n",
              "  <thead>\n",
              "    <tr style=\"text-align: right;\">\n",
              "      <th></th>\n",
              "      <th>ID</th>\n",
              "      <th>treatment</th>\n",
              "      <th>version</th>\n",
              "      <th>problemNumber</th>\n",
              "      <th>problem</th>\n",
              "      <th>problemType</th>\n",
              "      <th>responseTime</th>\n",
              "      <th>accuracy</th>\n",
              "      <th>sessionNo</th>\n",
              "      <th>mrDifficulty</th>\n",
              "      <th>changeMrDifficulty</th>\n",
              "      <th>programDifficulty</th>\n",
              "      <th>changeProgramDifficulty</th>\n",
              "      <th>age</th>\n",
              "      <th>gender</th>\n",
              "      <th>race</th>\n",
              "      <th>occupation</th>\n",
              "      <th>yearsProgramming</th>\n",
              "      <th>numPL</th>\n",
              "    </tr>\n",
              "  </thead>\n",
              "  <tbody>\n",
              "    <tr>\n",
              "      <th>0</th>\n",
              "      <td>p32420</td>\n",
              "      <td>A</td>\n",
              "      <td>version1</td>\n",
              "      <td>48</td>\n",
              "      <td>205.bmp</td>\n",
              "      <td>ARRAY</td>\n",
              "      <td>9.205110</td>\n",
              "      <td>1</td>\n",
              "      <td>NaN</td>\n",
              "      <td>NaN</td>\n",
              "      <td>NaN</td>\n",
              "      <td>NaN</td>\n",
              "      <td>NaN</td>\n",
              "      <td>27.0</td>\n",
              "      <td>Female</td>\n",
              "      <td>Asian</td>\n",
              "      <td>Part-time or full-tume job that does not invol...</td>\n",
              "      <td>3.0</td>\n",
              "      <td>2.0</td>\n",
              "    </tr>\n",
              "    <tr>\n",
              "      <th>1</th>\n",
              "      <td>p32420</td>\n",
              "      <td>A</td>\n",
              "      <td>version1</td>\n",
              "      <td>50</td>\n",
              "      <td>6.BMP</td>\n",
              "      <td>ARRAY</td>\n",
              "      <td>5.005046</td>\n",
              "      <td>0</td>\n",
              "      <td>NaN</td>\n",
              "      <td>NaN</td>\n",
              "      <td>NaN</td>\n",
              "      <td>NaN</td>\n",
              "      <td>NaN</td>\n",
              "      <td>27.0</td>\n",
              "      <td>Female</td>\n",
              "      <td>Asian</td>\n",
              "      <td>Part-time or full-tume job that does not invol...</td>\n",
              "      <td>3.0</td>\n",
              "      <td>2.0</td>\n",
              "    </tr>\n",
              "    <tr>\n",
              "      <th>2</th>\n",
              "      <td>p32420</td>\n",
              "      <td>A</td>\n",
              "      <td>version1</td>\n",
              "      <td>18</td>\n",
              "      <td>24.BMP</td>\n",
              "      <td>ARRAY</td>\n",
              "      <td>2.689130</td>\n",
              "      <td>0</td>\n",
              "      <td>NaN</td>\n",
              "      <td>NaN</td>\n",
              "      <td>NaN</td>\n",
              "      <td>NaN</td>\n",
              "      <td>NaN</td>\n",
              "      <td>27.0</td>\n",
              "      <td>Female</td>\n",
              "      <td>Asian</td>\n",
              "      <td>Part-time or full-tume job that does not invol...</td>\n",
              "      <td>3.0</td>\n",
              "      <td>2.0</td>\n",
              "    </tr>\n",
              "    <tr>\n",
              "      <th>3</th>\n",
              "      <td>p32420</td>\n",
              "      <td>A</td>\n",
              "      <td>version1</td>\n",
              "      <td>38</td>\n",
              "      <td>10.BMP</td>\n",
              "      <td>ARRAY</td>\n",
              "      <td>4.440007</td>\n",
              "      <td>0</td>\n",
              "      <td>NaN</td>\n",
              "      <td>NaN</td>\n",
              "      <td>NaN</td>\n",
              "      <td>NaN</td>\n",
              "      <td>NaN</td>\n",
              "      <td>27.0</td>\n",
              "      <td>Female</td>\n",
              "      <td>Asian</td>\n",
              "      <td>Part-time or full-tume job that does not invol...</td>\n",
              "      <td>3.0</td>\n",
              "      <td>2.0</td>\n",
              "    </tr>\n",
              "    <tr>\n",
              "      <th>4</th>\n",
              "      <td>p32420</td>\n",
              "      <td>A</td>\n",
              "      <td>version1</td>\n",
              "      <td>33</td>\n",
              "      <td>201.bmp</td>\n",
              "      <td>ARRAY</td>\n",
              "      <td>11.836844</td>\n",
              "      <td>1</td>\n",
              "      <td>NaN</td>\n",
              "      <td>NaN</td>\n",
              "      <td>NaN</td>\n",
              "      <td>NaN</td>\n",
              "      <td>NaN</td>\n",
              "      <td>27.0</td>\n",
              "      <td>Female</td>\n",
              "      <td>Asian</td>\n",
              "      <td>Part-time or full-tume job that does not invol...</td>\n",
              "      <td>3.0</td>\n",
              "      <td>2.0</td>\n",
              "    </tr>\n",
              "    <tr>\n",
              "      <th>...</th>\n",
              "      <td>...</td>\n",
              "      <td>...</td>\n",
              "      <td>...</td>\n",
              "      <td>...</td>\n",
              "      <td>...</td>\n",
              "      <td>...</td>\n",
              "      <td>...</td>\n",
              "      <td>...</td>\n",
              "      <td>...</td>\n",
              "      <td>...</td>\n",
              "      <td>...</td>\n",
              "      <td>...</td>\n",
              "      <td>...</td>\n",
              "      <td>...</td>\n",
              "      <td>...</td>\n",
              "      <td>...</td>\n",
              "      <td>...</td>\n",
              "      <td>...</td>\n",
              "      <td>...</td>\n",
              "    </tr>\n",
              "    <tr>\n",
              "      <th>2746</th>\n",
              "      <td>p04012</td>\n",
              "      <td>A</td>\n",
              "      <td>version2</td>\n",
              "      <td>31</td>\n",
              "      <td>320.bmp</td>\n",
              "      <td>TREE</td>\n",
              "      <td>57.775143</td>\n",
              "      <td>0</td>\n",
              "      <td>1.0</td>\n",
              "      <td>1.0</td>\n",
              "      <td>NaN</td>\n",
              "      <td>3.0</td>\n",
              "      <td>NaN</td>\n",
              "      <td>23.0</td>\n",
              "      <td>Male</td>\n",
              "      <td>White</td>\n",
              "      <td>Full-time job that involves programming</td>\n",
              "      <td>6.0</td>\n",
              "      <td>1.0</td>\n",
              "    </tr>\n",
              "    <tr>\n",
              "      <th>2747</th>\n",
              "      <td>p04012</td>\n",
              "      <td>A</td>\n",
              "      <td>version2</td>\n",
              "      <td>47</td>\n",
              "      <td>323.bmp</td>\n",
              "      <td>TREE</td>\n",
              "      <td>35.931511</td>\n",
              "      <td>1</td>\n",
              "      <td>1.0</td>\n",
              "      <td>1.0</td>\n",
              "      <td>NaN</td>\n",
              "      <td>3.0</td>\n",
              "      <td>NaN</td>\n",
              "      <td>23.0</td>\n",
              "      <td>Male</td>\n",
              "      <td>White</td>\n",
              "      <td>Full-time job that involves programming</td>\n",
              "      <td>6.0</td>\n",
              "      <td>1.0</td>\n",
              "    </tr>\n",
              "    <tr>\n",
              "      <th>2748</th>\n",
              "      <td>p04012</td>\n",
              "      <td>A</td>\n",
              "      <td>version2</td>\n",
              "      <td>48</td>\n",
              "      <td>325.bmp</td>\n",
              "      <td>CODING</td>\n",
              "      <td>111.818344</td>\n",
              "      <td>1</td>\n",
              "      <td>1.0</td>\n",
              "      <td>1.0</td>\n",
              "      <td>NaN</td>\n",
              "      <td>3.0</td>\n",
              "      <td>NaN</td>\n",
              "      <td>23.0</td>\n",
              "      <td>Male</td>\n",
              "      <td>White</td>\n",
              "      <td>Full-time job that involves programming</td>\n",
              "      <td>6.0</td>\n",
              "      <td>1.0</td>\n",
              "    </tr>\n",
              "    <tr>\n",
              "      <th>2749</th>\n",
              "      <td>p04012</td>\n",
              "      <td>A</td>\n",
              "      <td>version2</td>\n",
              "      <td>5</td>\n",
              "      <td>329.bmp</td>\n",
              "      <td>ARRAY</td>\n",
              "      <td>44.184052</td>\n",
              "      <td>1</td>\n",
              "      <td>1.0</td>\n",
              "      <td>1.0</td>\n",
              "      <td>NaN</td>\n",
              "      <td>3.0</td>\n",
              "      <td>NaN</td>\n",
              "      <td>23.0</td>\n",
              "      <td>Male</td>\n",
              "      <td>White</td>\n",
              "      <td>Full-time job that involves programming</td>\n",
              "      <td>6.0</td>\n",
              "      <td>1.0</td>\n",
              "    </tr>\n",
              "    <tr>\n",
              "      <th>2750</th>\n",
              "      <td>p04012</td>\n",
              "      <td>A</td>\n",
              "      <td>version2</td>\n",
              "      <td>39</td>\n",
              "      <td>332.bmp</td>\n",
              "      <td>CODING</td>\n",
              "      <td>82.160782</td>\n",
              "      <td>1</td>\n",
              "      <td>1.0</td>\n",
              "      <td>1.0</td>\n",
              "      <td>NaN</td>\n",
              "      <td>3.0</td>\n",
              "      <td>NaN</td>\n",
              "      <td>23.0</td>\n",
              "      <td>Male</td>\n",
              "      <td>White</td>\n",
              "      <td>Full-time job that involves programming</td>\n",
              "      <td>6.0</td>\n",
              "      <td>1.0</td>\n",
              "    </tr>\n",
              "  </tbody>\n",
              "</table>\n",
              "<p>2751 rows × 19 columns</p>\n",
              "</div>\n",
              "      <button class=\"colab-df-convert\" onclick=\"convertToInteractive('df-9e3dfd4e-714c-4413-a825-8a7bff37f3be')\"\n",
              "              title=\"Convert this dataframe to an interactive table.\"\n",
              "              style=\"display:none;\">\n",
              "\n",
              "  <svg xmlns=\"http://www.w3.org/2000/svg\" height=\"24px\"viewBox=\"0 0 24 24\"\n",
              "       width=\"24px\">\n",
              "    <path d=\"M0 0h24v24H0V0z\" fill=\"none\"/>\n",
              "    <path d=\"M18.56 5.44l.94 2.06.94-2.06 2.06-.94-2.06-.94-.94-2.06-.94 2.06-2.06.94zm-11 1L8.5 8.5l.94-2.06 2.06-.94-2.06-.94L8.5 2.5l-.94 2.06-2.06.94zm10 10l.94 2.06.94-2.06 2.06-.94-2.06-.94-.94-2.06-.94 2.06-2.06.94z\"/><path d=\"M17.41 7.96l-1.37-1.37c-.4-.4-.92-.59-1.43-.59-.52 0-1.04.2-1.43.59L10.3 9.45l-7.72 7.72c-.78.78-.78 2.05 0 2.83L4 21.41c.39.39.9.59 1.41.59.51 0 1.02-.2 1.41-.59l7.78-7.78 2.81-2.81c.8-.78.8-2.07 0-2.86zM5.41 20L4 18.59l7.72-7.72 1.47 1.35L5.41 20z\"/>\n",
              "  </svg>\n",
              "      </button>\n",
              "\n",
              "\n",
              "\n",
              "    <div id=\"df-4de6c7e8-23d2-4bd2-8ed6-a309cdf31a8f\">\n",
              "      <button class=\"colab-df-quickchart\" onclick=\"quickchart('df-4de6c7e8-23d2-4bd2-8ed6-a309cdf31a8f')\"\n",
              "              title=\"Suggest charts.\"\n",
              "              style=\"display:none;\">\n",
              "\n",
              "<svg xmlns=\"http://www.w3.org/2000/svg\" height=\"24px\"viewBox=\"0 0 24 24\"\n",
              "     width=\"24px\">\n",
              "    <g>\n",
              "        <path d=\"M19 3H5c-1.1 0-2 .9-2 2v14c0 1.1.9 2 2 2h14c1.1 0 2-.9 2-2V5c0-1.1-.9-2-2-2zM9 17H7v-7h2v7zm4 0h-2V7h2v10zm4 0h-2v-4h2v4z\"/>\n",
              "    </g>\n",
              "</svg>\n",
              "      </button>\n",
              "    </div>\n",
              "\n",
              "<style>\n",
              "  .colab-df-quickchart {\n",
              "    background-color: #E8F0FE;\n",
              "    border: none;\n",
              "    border-radius: 50%;\n",
              "    cursor: pointer;\n",
              "    display: none;\n",
              "    fill: #1967D2;\n",
              "    height: 32px;\n",
              "    padding: 0 0 0 0;\n",
              "    width: 32px;\n",
              "  }\n",
              "\n",
              "  .colab-df-quickchart:hover {\n",
              "    background-color: #E2EBFA;\n",
              "    box-shadow: 0px 1px 2px rgba(60, 64, 67, 0.3), 0px 1px 3px 1px rgba(60, 64, 67, 0.15);\n",
              "    fill: #174EA6;\n",
              "  }\n",
              "\n",
              "  [theme=dark] .colab-df-quickchart {\n",
              "    background-color: #3B4455;\n",
              "    fill: #D2E3FC;\n",
              "  }\n",
              "\n",
              "  [theme=dark] .colab-df-quickchart:hover {\n",
              "    background-color: #434B5C;\n",
              "    box-shadow: 0px 1px 3px 1px rgba(0, 0, 0, 0.15);\n",
              "    filter: drop-shadow(0px 1px 2px rgba(0, 0, 0, 0.3));\n",
              "    fill: #FFFFFF;\n",
              "  }\n",
              "</style>\n",
              "\n",
              "    <script>\n",
              "      async function quickchart(key) {\n",
              "        const containerElement = document.querySelector('#' + key);\n",
              "        const charts = await google.colab.kernel.invokeFunction(\n",
              "            'suggestCharts', [key], {});\n",
              "      }\n",
              "    </script>\n",
              "\n",
              "      <script>\n",
              "\n",
              "function displayQuickchartButton(domScope) {\n",
              "  let quickchartButtonEl =\n",
              "    domScope.querySelector('#df-4de6c7e8-23d2-4bd2-8ed6-a309cdf31a8f button.colab-df-quickchart');\n",
              "  quickchartButtonEl.style.display =\n",
              "    google.colab.kernel.accessAllowed ? 'block' : 'none';\n",
              "}\n",
              "\n",
              "        displayQuickchartButton(document);\n",
              "      </script>\n",
              "      <style>\n",
              "    .colab-df-container {\n",
              "      display:flex;\n",
              "      flex-wrap:wrap;\n",
              "      gap: 12px;\n",
              "    }\n",
              "\n",
              "    .colab-df-convert {\n",
              "      background-color: #E8F0FE;\n",
              "      border: none;\n",
              "      border-radius: 50%;\n",
              "      cursor: pointer;\n",
              "      display: none;\n",
              "      fill: #1967D2;\n",
              "      height: 32px;\n",
              "      padding: 0 0 0 0;\n",
              "      width: 32px;\n",
              "    }\n",
              "\n",
              "    .colab-df-convert:hover {\n",
              "      background-color: #E2EBFA;\n",
              "      box-shadow: 0px 1px 2px rgba(60, 64, 67, 0.3), 0px 1px 3px 1px rgba(60, 64, 67, 0.15);\n",
              "      fill: #174EA6;\n",
              "    }\n",
              "\n",
              "    [theme=dark] .colab-df-convert {\n",
              "      background-color: #3B4455;\n",
              "      fill: #D2E3FC;\n",
              "    }\n",
              "\n",
              "    [theme=dark] .colab-df-convert:hover {\n",
              "      background-color: #434B5C;\n",
              "      box-shadow: 0px 1px 3px 1px rgba(0, 0, 0, 0.15);\n",
              "      filter: drop-shadow(0px 1px 2px rgba(0, 0, 0, 0.3));\n",
              "      fill: #FFFFFF;\n",
              "    }\n",
              "  </style>\n",
              "\n",
              "      <script>\n",
              "        const buttonEl =\n",
              "          document.querySelector('#df-9e3dfd4e-714c-4413-a825-8a7bff37f3be button.colab-df-convert');\n",
              "        buttonEl.style.display =\n",
              "          google.colab.kernel.accessAllowed ? 'block' : 'none';\n",
              "\n",
              "        async function convertToInteractive(key) {\n",
              "          const element = document.querySelector('#df-9e3dfd4e-714c-4413-a825-8a7bff37f3be');\n",
              "          const dataTable =\n",
              "            await google.colab.kernel.invokeFunction('convertToInteractive',\n",
              "                                                     [key], {});\n",
              "          if (!dataTable) return;\n",
              "\n",
              "          const docLinkHtml = 'Like what you see? Visit the ' +\n",
              "            '<a target=\"_blank\" href=https://colab.research.google.com/notebooks/data_table.ipynb>data table notebook</a>'\n",
              "            + ' to learn more about interactive tables.';\n",
              "          element.innerHTML = '';\n",
              "          dataTable['output_type'] = 'display_data';\n",
              "          await google.colab.output.renderOutput(dataTable, element);\n",
              "          const docLink = document.createElement('div');\n",
              "          docLink.innerHTML = docLinkHtml;\n",
              "          element.appendChild(docLink);\n",
              "        }\n",
              "      </script>\n",
              "    </div>\n",
              "  </div>\n"
            ]
          },
          "metadata": {},
          "execution_count": 4
        }
      ]
    },
    {
      "cell_type": "markdown",
      "source": [
        "---\n",
        "\n",
        "We removed some trials for participant p19391 as their response times were 2 standard deviations away from the mean.\n"
      ],
      "metadata": {
        "id": "5fL7oBsAggos"
      }
    },
    {
      "cell_type": "code",
      "source": [
        "#REMOVES OUTLIERS OF PARTICIAPNT 19391\n",
        "sleepyP = df.query(\"ID == 'p19391'\")\n",
        "for index in sleepyP.index:\n",
        "  data_point = sleepyP[\"responseTime\"][index]\n",
        "  problem = sleepyP[\"problem\"][index]\n",
        "  mean = df.query(\"problem==@problem\")[\"responseTime\"].mean()\n",
        "  std_dev = df.query(\"problem==@problem\")[\"responseTime\"].std()\n",
        "  z_score = (data_point - mean) / std_dev\n",
        "  if abs(z_score) > 2:\n",
        "      mask = (df['ID'] == 'p19391') & (df['problem'] == problem)\n",
        "      df = df[~mask]\n",
        "  else:\n",
        "      pass\n",
        "\n"
      ],
      "metadata": {
        "id": "WRYZA8WpZtfi"
      },
      "execution_count": null,
      "outputs": []
    },
    {
      "cell_type": "markdown",
      "source": [
        "\n",
        "\n",
        "---\n",
        "\n",
        "The following contains demographic information pulled from the survey data"
      ],
      "metadata": {
        "id": "2cIW7GbFlS3n"
      }
    },
    {
      "cell_type": "code",
      "source": [
        "print(\"DataFrame length: \", len(df))\n",
        "print(\"Num Participants: \", len(df[\"ID\"].unique()))\n",
        "\n",
        "count = df[['ID','gender']].drop_duplicates()\n",
        "count2 = df[['ID','occupation']].drop_duplicates()\n",
        "count3 = df[['ID','race']].drop_duplicates()\n",
        "print(\"male: \", count['gender'].value_counts()[\"Male\"])\n",
        "print(\"female: \", count['gender'].value_counts()[\"Female\"])\n",
        "print()\n",
        "print(\"undergrad: \", count2['occupation'].value_counts()[\"Computing Student (undergraduate)\"])\n",
        "print(\"grad: \", count2['occupation'].value_counts()[\"Computing Student (graduate)\"])\n",
        "print(\"Full-TIme: \", count2['occupation'].value_counts()[\"Full-time job that involves programming\"])\n",
        "print(\"Non-comptuing: \", count2['occupation'].value_counts()['Non-computing student'])\n",
        "print(\"Non-comptuing Full-Time: \", count2['occupation'].value_counts()[\"Part-time or full-tume job that does not involve programming\"])\n",
        "print()\n",
        "print(\"white: \", count3['race'].value_counts()[\"White\"])\n",
        "print(\"asian: \", count3['race'].value_counts()[\"Asian\"])\n",
        "\n",
        "\n"
      ],
      "metadata": {
        "colab": {
          "base_uri": "https://localhost:8080/"
        },
        "id": "oVWKmbUnaFYG",
        "outputId": "f959d61f-63ac-42ce-bd80-4299623c2726"
      },
      "execution_count": null,
      "outputs": [
        {
          "output_type": "stream",
          "name": "stdout",
          "text": [
            "DataFrame length:  2726\n",
            "Num Participants:  16\n",
            "male:  8\n",
            "female:  7\n",
            "\n",
            "undergrad:  6\n",
            "grad:  4\n",
            "Full-TIme:  2\n",
            "Non-comptuing:  1\n",
            "Non-comptuing Full-Time:  1\n",
            "\n",
            "white:  5\n",
            "asian:  10\n"
          ]
        }
      ]
    },
    {
      "cell_type": "markdown",
      "source": [
        "# Replication and Coherency:\n",
        "\n",
        "- Have 14 full participants and 2 participant with two treatments (i.e., 19391, 37340)\n",
        "List = [00001, 00047, 00302, 00071, 00193, 00209, 03029, 00026, 00782, 00481, 04012, 13012, 19391, 18602, 32420, 37340]"
      ],
      "metadata": {
        "id": "zXB209_eQ1qp"
      }
    },
    {
      "cell_type": "markdown",
      "source": [
        "(a) Computed a one-way ANOVA (f_oneway) of “responses times for Mental Rotation questions that participants got right” across three treatment groups. What are the p and f values?\n",
        "\n"
      ],
      "metadata": {
        "id": "8jYpKpn9SqWn"
      }
    },
    {
      "cell_type": "code",
      "source": [
        "A = df.query(\"accuracy==1 & treatment=='A' & problemType=='MENTAL'\")[\"responseTime\"]\n",
        "B = df.query(\"accuracy==1 & treatment=='B' & problemType=='MENTAL'\")[\"responseTime\"]\n",
        "C = df.query(\"accuracy==1 & treatment=='C' & problemType=='MENTAL'\")[\"responseTime\"]\n",
        "#res = tukey_hsd(A, B, C ) -> post-hoc tests if we want to look further into groups\n",
        "\n",
        "fvalue, pvalue = stats.f_oneway(A, B, C)\n",
        "print(\"fvalue: \",fvalue, \"pvalue: \",pvalue)\n",
        "\n",
        "len(df.query(\"accuracy==1 & problemType=='MENTAL'\"))\n",
        "\n",
        "\n",
        "\n"
      ],
      "metadata": {
        "colab": {
          "base_uri": "https://localhost:8080/"
        },
        "id": "_frxC_viQwax",
        "outputId": "363cf8c3-bcd1-4913-d079-b426cd65dda1"
      },
      "execution_count": null,
      "outputs": [
        {
          "output_type": "stream",
          "name": "stdout",
          "text": [
            "fvalue:  0.746409667987899 pvalue:  0.47440472060705674\n"
          ]
        },
        {
          "output_type": "execute_result",
          "data": {
            "text/plain": [
              "781"
            ]
          },
          "metadata": {},
          "execution_count": 7
        }
      ]
    },
    {
      "cell_type": "markdown",
      "source": [
        "# Analysis - Primary RQs\n",
        "\n",
        "(1) Does there exist a question type T such that “raw accuracies on T for one of the treatment conditions are statistically different from raw accuracies on T for another treatment condition (considering all participants)”?\n",
        "\n",
        "What are the statistical significance levels and effect sizes?\n",
        "\n",
        "**RESULT** -> No, there does not exist a question type T such that raw accuracies on T for one treatment condition are statiscally different from raw accuracies on T for another treatment condition when looking at all participants\n"
      ],
      "metadata": {
        "id": "zNOWzq4ETNa6"
      }
    },
    {
      "cell_type": "code",
      "source": [
        "import numpy as np\n",
        "from scipy.stats import chi2_contingency"
      ],
      "metadata": {
        "id": "J58j5JpDWBIG"
      },
      "execution_count": null,
      "outputs": []
    },
    {
      "cell_type": "code",
      "source": [
        "#Cramer's V is a measure of association for nominal (categorical) variables and\n",
        "#provides an indication of the strength of the relationship between two categorical variables.\n",
        "#It ranges from 0 to 1, where 0 means no association, and 1 indicates a perfect association.\n",
        "\n",
        "def cramers_v(crosstab):\n",
        "    chi2 = chi2_contingency(crosstab)[0]\n",
        "    n = crosstab.sum().sum()\n",
        "    min_dim = min(crosstab.shape) - 1\n",
        "    return np.sqrt(chi2 / (n * min_dim))"
      ],
      "metadata": {
        "id": "GPCAosEIWEWm"
      },
      "execution_count": null,
      "outputs": []
    },
    {
      "cell_type": "code",
      "source": [
        "# Chi squared test needed to compare two categorical varaibles (accuracy and treatment) 3x3\n",
        "\n",
        "crosstab = pd.crosstab(index = [df['accuracy'], df['problemType']], columns = df['treatment'])\n",
        "effect_size = cramers_v(crosstab)\n",
        "print(\"RESULT: there are no statistical significant relationships between treatment, problem type, and accuracy\\n\")\n",
        "print(crosstab, \"\\n\")\n",
        "\n",
        "print(\"Cramer's V Effect Size:\", effect_size, \"\\n\")\n",
        "stats.chi2_contingency(crosstab)\n"
      ],
      "metadata": {
        "colab": {
          "base_uri": "https://localhost:8080/"
        },
        "id": "p-QRqMqfTahh",
        "outputId": "3af271a8-e09c-4077-e827-a193c0c1c92f"
      },
      "execution_count": null,
      "outputs": [
        {
          "output_type": "stream",
          "name": "stdout",
          "text": [
            "RESULT: there are no statistical significant relationships between treatment, problem type, and accuracy\n",
            "\n",
            "treatment               A    B    C\n",
            "accuracy problemType               \n",
            "0        ARRAY         19   16   19\n",
            "         CODING        19   22   21\n",
            "         MENTAL        17   21   23\n",
            "         TREE          30   38   41\n",
            "1        ARRAY        151  156  166\n",
            "         CODING       162  164  176\n",
            "         MENTAL       258  259  264\n",
            "         TREE         224  228  232 \n",
            "\n",
            "Cramer's V Effect Size: 0.022553335243283044 \n",
            "\n"
          ]
        },
        {
          "output_type": "execute_result",
          "data": {
            "text/plain": [
              "Chi2ContingencyResult(statistic=2.7731757776089174, pvalue=0.9994115186078658, dof=14, expected_freq=array([[ 17.432135  ,  17.90755686,  18.66030814],\n",
              "       [ 20.01467351,  20.56052825,  21.42479824],\n",
              "       [ 19.6918562 ,  20.22890682,  21.07923698],\n",
              "       [ 35.18708731,  36.14673514,  37.66617755],\n",
              "       [152.69258988, 156.85693324, 163.45047689],\n",
              "       [162.054292  , 166.47395451, 173.47175348],\n",
              "       [252.12032282, 258.99633162, 269.88334556],\n",
              "       [220.80704329, 226.82905356, 236.36390315]]))"
            ]
          },
          "metadata": {},
          "execution_count": 10
        }
      ]
    },
    {
      "cell_type": "code",
      "source": [
        "# Chi square (2x2) one problem at a time - mental rotation tasks\n",
        "\n",
        "mental = df.query(\"problemType=='MENTAL' \")\n",
        "\n",
        "crosstab = pd.crosstab(index = [mental['accuracy']], columns = mental['treatment'])\n",
        "effect_size = cramers_v(crosstab)\n",
        "print(\"RESULT: there are no statistical significant relationships between treatment, problem type, and accuracy\\n\")\n",
        "print(crosstab, \"\\n\")\n",
        "\n",
        "print(\"Cramer's V Effect Size:\", effect_size, \"\\n\")\n",
        "stats.chi2_contingency(crosstab)\n"
      ],
      "metadata": {
        "colab": {
          "base_uri": "https://localhost:8080/"
        },
        "id": "m18EAdkbUqQy",
        "outputId": "77a5b86e-9b83-4501-ff89-4de5c10e5119"
      },
      "execution_count": null,
      "outputs": [
        {
          "output_type": "stream",
          "name": "stdout",
          "text": [
            "RESULT: there are no statistical significant relationships between treatment, problem type, and accuracy\n",
            "\n",
            "treatment    A    B    C\n",
            "accuracy                \n",
            "0           17   21   23\n",
            "1          258  259  264 \n",
            "\n",
            "Cramer's V Effect Size: 0.029689714703444423 \n",
            "\n"
          ]
        },
        {
          "output_type": "execute_result",
          "data": {
            "text/plain": [
              "Chi2ContingencyResult(statistic=0.74220545202276, pvalue=0.6899730597377615, dof=2, expected_freq=array([[ 19.92280285,  20.28503563,  20.79216152],\n",
              "       [255.07719715, 259.71496437, 266.20783848]]))"
            ]
          },
          "metadata": {},
          "execution_count": 65
        }
      ]
    },
    {
      "cell_type": "code",
      "source": [
        "# Chi square (2x2) one problem at a time - coding tasks\n",
        "\n",
        "coding = df.query(\"problemType=='CODING' \")\n",
        "\n",
        "crosstab = pd.crosstab(index = [coding['accuracy']], columns = coding['treatment'])\n",
        "effect_size = cramers_v(crosstab)\n",
        "print(\"RESULT: there are no statistical significant relationships between treatment, problem type, and accuracy\\n\")\n",
        "print(crosstab, \"\\n\")\n",
        "\n",
        "print(\"Cramer's V Effect Size:\", effect_size, \"\\n\")\n",
        "stats.chi2_contingency(crosstab)\n"
      ],
      "metadata": {
        "colab": {
          "base_uri": "https://localhost:8080/"
        },
        "id": "-n5w3X45X-Tl",
        "outputId": "66e343ea-38eb-44db-ea35-927898395adb"
      },
      "execution_count": null,
      "outputs": [
        {
          "output_type": "stream",
          "name": "stdout",
          "text": [
            "RESULT: there are no statistical significant relationships between treatment, problem type, and accuracy\n",
            "\n",
            "treatment    A    B    C\n",
            "accuracy                \n",
            "0           19   22   21\n",
            "1          162  164  176 \n",
            "\n",
            "Cramer's V Effect Size: 0.018846760578347197 \n",
            "\n"
          ]
        },
        {
          "output_type": "execute_result",
          "data": {
            "text/plain": [
              "Chi2ContingencyResult(statistic=0.20033301674381368, pvalue=0.9046867675732717, dof=2, expected_freq=array([[ 19.89716312,  20.44680851,  21.65602837],\n",
              "       [161.10283688, 165.55319149, 175.34397163]]))"
            ]
          },
          "metadata": {},
          "execution_count": 66
        }
      ]
    },
    {
      "cell_type": "code",
      "source": [
        "# Chi square (2x2) one problem at a time - data structure manipulation\n",
        "\n",
        "tree = df.query(\"(problemType=='TREE' | problemType=='ARRAY')\")\n",
        "\n",
        "crosstab = pd.crosstab(index = [tree['accuracy']], columns = tree['treatment'])\n",
        "effect_size = cramers_v(crosstab)\n",
        "print(\"RESULT: there are no statistical significant relationships between treatment, problem type, and accuracy\\n\")\n",
        "print(crosstab, \"\\n\")\n",
        "\n",
        "print(\"Cramer's V Effect Size:\", effect_size, \"\\n\")\n",
        "stats.chi2_contingency(crosstab)\n"
      ],
      "metadata": {
        "colab": {
          "base_uri": "https://localhost:8080/"
        },
        "id": "bmdNp4oIYJb-",
        "outputId": "03147e0a-73fc-4d69-f8e7-baa608c50d03"
      },
      "execution_count": null,
      "outputs": [
        {
          "output_type": "stream",
          "name": "stdout",
          "text": [
            "RESULT: there are no statistical significant relationships between treatment, problem type, and accuracy\n",
            "\n",
            "treatment    A    B    C\n",
            "accuracy                \n",
            "0           49   54   60\n",
            "1          375  384  398 \n",
            "\n",
            "Cramer's V Effect Size: 0.019169623625703482 \n",
            "\n"
          ]
        },
        {
          "output_type": "execute_result",
          "data": {
            "text/plain": [
              "Chi2ContingencyResult(statistic=0.4850663003354904, pvalue=0.7846377362750085, dof=2, expected_freq=array([[ 52.35757576,  54.08636364,  56.55606061],\n",
              "       [371.64242424, 383.91363636, 401.44393939]]))"
            ]
          },
          "metadata": {},
          "execution_count": 67
        }
      ]
    },
    {
      "cell_type": "markdown",
      "source": [
        "\n",
        "\n",
        "---\n",
        "\n"
      ],
      "metadata": {
        "id": "AzF6HFwEaU-9"
      }
    },
    {
      "cell_type": "markdown",
      "source": [
        "(2) Does there exist a question type T such that “raw response times on T for one of the treatment conditions are statistically different from raw response times on T for another treatment condition (considering all participants)”?\n",
        "\n",
        "**Result** -> No, there does not exist a question type T that meets such requirements. Note, I looked at response times for correct answers\n",
        "\n",
        "\n"
      ],
      "metadata": {
        "id": "MnsOF361ZCC7"
      }
    },
    {
      "cell_type": "code",
      "source": [
        "#One Way Anova - we have one independent variable (treatments) with continous data\n",
        "\n",
        "A = df.query(\"accuracy==1.0 & treatment=='A' & problemType=='MENTAL'\")[\"responseTime\"]\n",
        "B = df.query(\"accuracy==1.0 & treatment=='B' & problemType=='MENTAL'\")[\"responseTime\"]\n",
        "C = df.query(\"accuracy==1.0 & treatment=='C' & problemType=='MENTAL'\")[\"responseTime\"]\n",
        "fvalue, pvalue = stats.f_oneway(A,C )\n",
        "print(\"MENTAL ROTATION Tasks (Treatment A vs Control C) -> fvalue: \",fvalue, \"pvalue: \",pvalue)\n",
        "fvalue, pvalue = stats.f_oneway(B,C )\n",
        "print(\"MENTAL ROTATION Tasks (Treatment B vs Control C) -> fvalue: \",fvalue, \"pvalue: \",pvalue)"
      ],
      "metadata": {
        "colab": {
          "base_uri": "https://localhost:8080/"
        },
        "id": "foZBwFPWZLID",
        "outputId": "7bf199c2-ccb0-42cc-a334-56b99d8b208c"
      },
      "execution_count": null,
      "outputs": [
        {
          "output_type": "stream",
          "name": "stdout",
          "text": [
            "MENTAL ROTATION Tasks (Treatment A vs Control C) -> fvalue:  0.1232702553663312 pvalue:  0.7256565502293004\n",
            "MENTAL ROTATION Tasks (Treatment B vs Control C) -> fvalue:  1.5055792371350047 pvalue:  0.22036907040310497\n"
          ]
        }
      ]
    },
    {
      "cell_type": "code",
      "source": [
        "#One Way Anova - we have one independent variable (treatments) with continous data\n",
        "#Now: Considering response times of correct answers only\n",
        "\n",
        "A = df.query(\"accuracy==1 & treatment=='A' & problemType=='CODING'\")[\"responseTime\"]\n",
        "B = df.query(\"accuracy==1 & treatment=='B' & problemType=='CODING'\")[\"responseTime\"]\n",
        "C = df.query(\"accuracy==1 & treatment=='C' & problemType=='CODING'\")[\"responseTime\"]\n",
        "fvalue, pvalue = stats.f_oneway(A,C )\n",
        "print(\"CODING Tasks (Treatment A vs Control C) -> fvalue: \",fvalue, \"pvalue: \",pvalue)\n",
        "fvalue, pvalue = stats.f_oneway(B,C )\n",
        "print(\"CODING Tasks (Treatment B vs Control C) -> fvalue: \",fvalue, \"pvalue: \",pvalue)\n",
        "\n"
      ],
      "metadata": {
        "colab": {
          "base_uri": "https://localhost:8080/"
        },
        "id": "YP0hEnTaZ703",
        "outputId": "515206a3-a4b9-48c3-a0bc-d2a756797d0b"
      },
      "execution_count": null,
      "outputs": [
        {
          "output_type": "stream",
          "name": "stdout",
          "text": [
            "CODING Tasks (Treatment A vs Control C) -> fvalue:  0.06305094546570085 pvalue:  0.8018906929068079\n",
            "CODING Tasks (Treatment B vs Control C) -> fvalue:  0.005547182751844167 pvalue:  0.9406729819305629\n"
          ]
        }
      ]
    },
    {
      "cell_type": "code",
      "source": [
        "A = df.query(\"accuracy==1.0 & treatment=='A' & (problemType=='TREE' | problemType=='ARRAY')\")[\"responseTime\"]\n",
        "B = df.query(\"accuracy==1.0 & treatment=='B' & (problemType=='TREE' | problemType=='ARRAY')\")[\"responseTime\"]\n",
        "C = df.query(\"accuracy==1.0 & treatment=='C' & (problemType=='TREE' | problemType=='ARRAY')\")[\"responseTime\"]\n",
        "fvalue, pvalue = stats.f_oneway(A,C )\n",
        "print(\"DATA STRUCTURE Tasks (Treatment A vs Control C) -> fvalue: \",fvalue, \"pvalue: \",pvalue)\n",
        "fvalue, pvalue = stats.f_oneway(B,C )\n",
        "print(\"DATA STRUCTURE Tasks (Treatment B vs Control C) -> fvalue: \",fvalue, \"pvalue: \",pvalue)"
      ],
      "metadata": {
        "colab": {
          "base_uri": "https://localhost:8080/"
        },
        "id": "TC5GeKmca6vk",
        "outputId": "4a5223cf-0c77-4fa8-c749-e9421415952c"
      },
      "execution_count": null,
      "outputs": [
        {
          "output_type": "stream",
          "name": "stdout",
          "text": [
            "DATA STRUCTURE Tasks (Treatment A vs Control C) -> fvalue:  0.09226687374669114 pvalue:  0.7613967895517975\n",
            "DATA STRUCTURE Tasks (Treatment B vs Control C) -> fvalue:  0.21056485297952213 pvalue:  0.6464528758032904\n"
          ]
        }
      ]
    },
    {
      "cell_type": "markdown",
      "source": [
        "\n",
        "\n",
        "---\n",
        "\n",
        "(3) Let AbsDelta(x) be the absolute value of the difference between “the average of x in the control condition and this one observation of x in a treatment condition”.\n",
        "\n",
        "Does there exist a question type T such that “AbsDelta(response time) on T for treatment condition A is statistically different from AbsDelta(response time) on T for treatment condition B”?\n",
        "\n",
        "Alternate phrasing: make an additional column in your dataframe for AbsDelta(response time) and use it for statistics.\n",
        "\n",
        "\n",
        "\n",
        "*NOTE: I am going to compute the average time of correct responses as my base. I will be computing the deltas for times that are of correct responses*\n",
        "\n",
        "**RESULT** -> AbsDelta of question type 'CODING' for treatment A is statisitcally different from AbsDelta of question type 'CODING' on treatment B (p < 0.05).\n"
      ],
      "metadata": {
        "id": "0vwpi5mtbqlD"
      }
    },
    {
      "cell_type": "code",
      "source": [
        "# Make new dataframe with average times per problem type T across treatments\n",
        "# NOTE! I am looking at RESPONSE TIMES FOR CORRECT ANSWERS\n",
        "\n",
        "pID = df['ID'].unique()\n",
        "treatments = df['treatment'].unique()\n",
        "problemTypes = df['problemType'].unique()\n",
        "averageTimes = []\n",
        "for id in pID:\n",
        "    for treat in treatments:\n",
        "        for problem in problemTypes:\n",
        "            average = df.query(\"ID==@id & treatment==@treat & problemType==@problem & accuracy==1\")[\"responseTime\"].mean()\n",
        "            averageTimes.append([id, treat, problem ,average])\n",
        "\n",
        "column_names=[\"ID\",\"treatment\",'problemType', 'avgTime']\n",
        "df_avg=pd.DataFrame(averageTimes, columns=column_names)\n",
        "df_avg = df_avg.set_index(['ID', 'treatment', 'problemType'])\n",
        "\n",
        "df_avg\n"
      ],
      "metadata": {
        "colab": {
          "base_uri": "https://localhost:8080/",
          "height": 455
        },
        "id": "0QiPF2U0b5Tm",
        "outputId": "b46bea84-3233-41a2-c8aa-3e700cce37f9"
      },
      "execution_count": null,
      "outputs": [
        {
          "output_type": "execute_result",
          "data": {
            "text/plain": [
              "                                avgTime\n",
              "ID     treatment problemType           \n",
              "p32420 A         ARRAY        17.892599\n",
              "                 TREE         22.077676\n",
              "                 MENTAL        8.897606\n",
              "                 CODING       20.403861\n",
              "       B         ARRAY         8.021723\n",
              "...                                 ...\n",
              "p04012 B         CODING       26.915436\n",
              "       C         ARRAY        11.068279\n",
              "                 TREE         18.574696\n",
              "                 MENTAL        8.594950\n",
              "                 CODING       19.795748\n",
              "\n",
              "[192 rows x 1 columns]"
            ],
            "text/html": [
              "\n",
              "\n",
              "  <div id=\"df-9866e05d-7bae-4ce5-a8fe-b9d40763fe4a\">\n",
              "    <div class=\"colab-df-container\">\n",
              "      <div>\n",
              "<style scoped>\n",
              "    .dataframe tbody tr th:only-of-type {\n",
              "        vertical-align: middle;\n",
              "    }\n",
              "\n",
              "    .dataframe tbody tr th {\n",
              "        vertical-align: top;\n",
              "    }\n",
              "\n",
              "    .dataframe thead th {\n",
              "        text-align: right;\n",
              "    }\n",
              "</style>\n",
              "<table border=\"1\" class=\"dataframe\">\n",
              "  <thead>\n",
              "    <tr style=\"text-align: right;\">\n",
              "      <th></th>\n",
              "      <th></th>\n",
              "      <th></th>\n",
              "      <th>avgTime</th>\n",
              "    </tr>\n",
              "    <tr>\n",
              "      <th>ID</th>\n",
              "      <th>treatment</th>\n",
              "      <th>problemType</th>\n",
              "      <th></th>\n",
              "    </tr>\n",
              "  </thead>\n",
              "  <tbody>\n",
              "    <tr>\n",
              "      <th rowspan=\"5\" valign=\"top\">p32420</th>\n",
              "      <th rowspan=\"4\" valign=\"top\">A</th>\n",
              "      <th>ARRAY</th>\n",
              "      <td>17.892599</td>\n",
              "    </tr>\n",
              "    <tr>\n",
              "      <th>TREE</th>\n",
              "      <td>22.077676</td>\n",
              "    </tr>\n",
              "    <tr>\n",
              "      <th>MENTAL</th>\n",
              "      <td>8.897606</td>\n",
              "    </tr>\n",
              "    <tr>\n",
              "      <th>CODING</th>\n",
              "      <td>20.403861</td>\n",
              "    </tr>\n",
              "    <tr>\n",
              "      <th>B</th>\n",
              "      <th>ARRAY</th>\n",
              "      <td>8.021723</td>\n",
              "    </tr>\n",
              "    <tr>\n",
              "      <th>...</th>\n",
              "      <th>...</th>\n",
              "      <th>...</th>\n",
              "      <td>...</td>\n",
              "    </tr>\n",
              "    <tr>\n",
              "      <th rowspan=\"5\" valign=\"top\">p04012</th>\n",
              "      <th>B</th>\n",
              "      <th>CODING</th>\n",
              "      <td>26.915436</td>\n",
              "    </tr>\n",
              "    <tr>\n",
              "      <th rowspan=\"4\" valign=\"top\">C</th>\n",
              "      <th>ARRAY</th>\n",
              "      <td>11.068279</td>\n",
              "    </tr>\n",
              "    <tr>\n",
              "      <th>TREE</th>\n",
              "      <td>18.574696</td>\n",
              "    </tr>\n",
              "    <tr>\n",
              "      <th>MENTAL</th>\n",
              "      <td>8.594950</td>\n",
              "    </tr>\n",
              "    <tr>\n",
              "      <th>CODING</th>\n",
              "      <td>19.795748</td>\n",
              "    </tr>\n",
              "  </tbody>\n",
              "</table>\n",
              "<p>192 rows × 1 columns</p>\n",
              "</div>\n",
              "      <button class=\"colab-df-convert\" onclick=\"convertToInteractive('df-9866e05d-7bae-4ce5-a8fe-b9d40763fe4a')\"\n",
              "              title=\"Convert this dataframe to an interactive table.\"\n",
              "              style=\"display:none;\">\n",
              "\n",
              "  <svg xmlns=\"http://www.w3.org/2000/svg\" height=\"24px\"viewBox=\"0 0 24 24\"\n",
              "       width=\"24px\">\n",
              "    <path d=\"M0 0h24v24H0V0z\" fill=\"none\"/>\n",
              "    <path d=\"M18.56 5.44l.94 2.06.94-2.06 2.06-.94-2.06-.94-.94-2.06-.94 2.06-2.06.94zm-11 1L8.5 8.5l.94-2.06 2.06-.94-2.06-.94L8.5 2.5l-.94 2.06-2.06.94zm10 10l.94 2.06.94-2.06 2.06-.94-2.06-.94-.94-2.06-.94 2.06-2.06.94z\"/><path d=\"M17.41 7.96l-1.37-1.37c-.4-.4-.92-.59-1.43-.59-.52 0-1.04.2-1.43.59L10.3 9.45l-7.72 7.72c-.78.78-.78 2.05 0 2.83L4 21.41c.39.39.9.59 1.41.59.51 0 1.02-.2 1.41-.59l7.78-7.78 2.81-2.81c.8-.78.8-2.07 0-2.86zM5.41 20L4 18.59l7.72-7.72 1.47 1.35L5.41 20z\"/>\n",
              "  </svg>\n",
              "      </button>\n",
              "\n",
              "\n",
              "\n",
              "    <div id=\"df-eacc7b7c-3708-42d5-87cc-65241a561d99\">\n",
              "      <button class=\"colab-df-quickchart\" onclick=\"quickchart('df-eacc7b7c-3708-42d5-87cc-65241a561d99')\"\n",
              "              title=\"Suggest charts.\"\n",
              "              style=\"display:none;\">\n",
              "\n",
              "<svg xmlns=\"http://www.w3.org/2000/svg\" height=\"24px\"viewBox=\"0 0 24 24\"\n",
              "     width=\"24px\">\n",
              "    <g>\n",
              "        <path d=\"M19 3H5c-1.1 0-2 .9-2 2v14c0 1.1.9 2 2 2h14c1.1 0 2-.9 2-2V5c0-1.1-.9-2-2-2zM9 17H7v-7h2v7zm4 0h-2V7h2v10zm4 0h-2v-4h2v4z\"/>\n",
              "    </g>\n",
              "</svg>\n",
              "      </button>\n",
              "    </div>\n",
              "\n",
              "<style>\n",
              "  .colab-df-quickchart {\n",
              "    background-color: #E8F0FE;\n",
              "    border: none;\n",
              "    border-radius: 50%;\n",
              "    cursor: pointer;\n",
              "    display: none;\n",
              "    fill: #1967D2;\n",
              "    height: 32px;\n",
              "    padding: 0 0 0 0;\n",
              "    width: 32px;\n",
              "  }\n",
              "\n",
              "  .colab-df-quickchart:hover {\n",
              "    background-color: #E2EBFA;\n",
              "    box-shadow: 0px 1px 2px rgba(60, 64, 67, 0.3), 0px 1px 3px 1px rgba(60, 64, 67, 0.15);\n",
              "    fill: #174EA6;\n",
              "  }\n",
              "\n",
              "  [theme=dark] .colab-df-quickchart {\n",
              "    background-color: #3B4455;\n",
              "    fill: #D2E3FC;\n",
              "  }\n",
              "\n",
              "  [theme=dark] .colab-df-quickchart:hover {\n",
              "    background-color: #434B5C;\n",
              "    box-shadow: 0px 1px 3px 1px rgba(0, 0, 0, 0.15);\n",
              "    filter: drop-shadow(0px 1px 2px rgba(0, 0, 0, 0.3));\n",
              "    fill: #FFFFFF;\n",
              "  }\n",
              "</style>\n",
              "\n",
              "    <script>\n",
              "      async function quickchart(key) {\n",
              "        const containerElement = document.querySelector('#' + key);\n",
              "        const charts = await google.colab.kernel.invokeFunction(\n",
              "            'suggestCharts', [key], {});\n",
              "      }\n",
              "    </script>\n",
              "\n",
              "      <script>\n",
              "\n",
              "function displayQuickchartButton(domScope) {\n",
              "  let quickchartButtonEl =\n",
              "    domScope.querySelector('#df-eacc7b7c-3708-42d5-87cc-65241a561d99 button.colab-df-quickchart');\n",
              "  quickchartButtonEl.style.display =\n",
              "    google.colab.kernel.accessAllowed ? 'block' : 'none';\n",
              "}\n",
              "\n",
              "        displayQuickchartButton(document);\n",
              "      </script>\n",
              "      <style>\n",
              "    .colab-df-container {\n",
              "      display:flex;\n",
              "      flex-wrap:wrap;\n",
              "      gap: 12px;\n",
              "    }\n",
              "\n",
              "    .colab-df-convert {\n",
              "      background-color: #E8F0FE;\n",
              "      border: none;\n",
              "      border-radius: 50%;\n",
              "      cursor: pointer;\n",
              "      display: none;\n",
              "      fill: #1967D2;\n",
              "      height: 32px;\n",
              "      padding: 0 0 0 0;\n",
              "      width: 32px;\n",
              "    }\n",
              "\n",
              "    .colab-df-convert:hover {\n",
              "      background-color: #E2EBFA;\n",
              "      box-shadow: 0px 1px 2px rgba(60, 64, 67, 0.3), 0px 1px 3px 1px rgba(60, 64, 67, 0.15);\n",
              "      fill: #174EA6;\n",
              "    }\n",
              "\n",
              "    [theme=dark] .colab-df-convert {\n",
              "      background-color: #3B4455;\n",
              "      fill: #D2E3FC;\n",
              "    }\n",
              "\n",
              "    [theme=dark] .colab-df-convert:hover {\n",
              "      background-color: #434B5C;\n",
              "      box-shadow: 0px 1px 3px 1px rgba(0, 0, 0, 0.15);\n",
              "      filter: drop-shadow(0px 1px 2px rgba(0, 0, 0, 0.3));\n",
              "      fill: #FFFFFF;\n",
              "    }\n",
              "  </style>\n",
              "\n",
              "      <script>\n",
              "        const buttonEl =\n",
              "          document.querySelector('#df-9866e05d-7bae-4ce5-a8fe-b9d40763fe4a button.colab-df-convert');\n",
              "        buttonEl.style.display =\n",
              "          google.colab.kernel.accessAllowed ? 'block' : 'none';\n",
              "\n",
              "        async function convertToInteractive(key) {\n",
              "          const element = document.querySelector('#df-9866e05d-7bae-4ce5-a8fe-b9d40763fe4a');\n",
              "          const dataTable =\n",
              "            await google.colab.kernel.invokeFunction('convertToInteractive',\n",
              "                                                     [key], {});\n",
              "          if (!dataTable) return;\n",
              "\n",
              "          const docLinkHtml = 'Like what you see? Visit the ' +\n",
              "            '<a target=\"_blank\" href=https://colab.research.google.com/notebooks/data_table.ipynb>data table notebook</a>'\n",
              "            + ' to learn more about interactive tables.';\n",
              "          element.innerHTML = '';\n",
              "          dataTable['output_type'] = 'display_data';\n",
              "          await google.colab.output.renderOutput(dataTable, element);\n",
              "          const docLink = document.createElement('div');\n",
              "          docLink.innerHTML = docLinkHtml;\n",
              "          element.appendChild(docLink);\n",
              "        }\n",
              "      </script>\n",
              "    </div>\n",
              "  </div>\n"
            ]
          },
          "metadata": {},
          "execution_count": 19
        }
      ]
    },
    {
      "cell_type": "code",
      "source": [
        "def getDeltasAbs():\n",
        "  deltas = []\n",
        "  for index in df.index:\n",
        "    id = df['ID'][index]\n",
        "    treat = df['treatment'][index]\n",
        "    problemType = df['problemType'][index]\n",
        "    if treat != 'C':\n",
        "      base = df_avg.loc[id, 'C', problemType]\n",
        "      T_i = df['responseTime'][index]\n",
        "      delta = abs(base[0] - T_i)\n",
        "      deltas.append(delta)\n",
        "    else:\n",
        "      delta = 0\n",
        "      deltas.append(delta)\n",
        "  df['absDelta'] = deltas\n",
        "\n",
        "\n",
        "getDeltasAbs()\n",
        "\n",
        "\n"
      ],
      "metadata": {
        "id": "uIarGrWP7i7x"
      },
      "execution_count": null,
      "outputs": []
    },
    {
      "cell_type": "code",
      "source": [
        "def getDeltas():\n",
        "  deltas = []\n",
        "  for index in df.index:\n",
        "    id = df['ID'][index]\n",
        "    treat = df['treatment'][index]\n",
        "    problemType = df['problemType'][index]\n",
        "    if treat != 'C':\n",
        "      base = df_avg.loc[id, 'C', problemType]\n",
        "      T_i = df['responseTime'][index]\n",
        "      delta = T_i - base[0]\n",
        "      deltas.append(delta)\n",
        "    else:\n",
        "      delta = 0\n",
        "      deltas.append(delta)\n",
        "  df['delta'] = deltas\n",
        "\n",
        "\n",
        "getDeltas()\n",
        "\n",
        "#Positive delta == impaired, negative delta == improved"
      ],
      "metadata": {
        "id": "w3nXPBvmssbt"
      },
      "execution_count": null,
      "outputs": []
    },
    {
      "cell_type": "code",
      "source": [
        "A = df.query(\"treatment=='A' & problemType=='MENTAL' & accuracy==1\")[\"absDelta\"]\n",
        "B = df.query(\"treatment=='B' & problemType=='MENTAL' & accuracy==1\")[\"absDelta\"]\n",
        "fvalue, pvalue = stats.f_oneway(A, B)\n",
        "\n",
        "print(\"Mental Rotation response time absolute deltas: \", fvalue, pvalue)\n",
        "\n",
        "\n"
      ],
      "metadata": {
        "colab": {
          "base_uri": "https://localhost:8080/"
        },
        "id": "STQT8BZPcNlD",
        "outputId": "bb0830ba-0dda-404c-cbbd-8ea6f4fc1070"
      },
      "execution_count": null,
      "outputs": [
        {
          "output_type": "stream",
          "name": "stdout",
          "text": [
            "Mental:  0.03632184048609958 0.8489274938321582\n"
          ]
        }
      ]
    },
    {
      "cell_type": "code",
      "source": [
        "\n",
        "print(\"Coding Task: \")\n",
        "correct = df.query(\"(treatment=='A' | treatment=='B') & problemType=='CODING' & accuracy==1\")\n",
        "aov = pg.anova(dv='absDelta', between='treatment', data=correct, detailed=True)\n",
        "aov\n",
        "\n",
        "\n"
      ],
      "metadata": {
        "colab": {
          "base_uri": "https://localhost:8080/",
          "height": 129
        },
        "id": "ikzpt4cpwxTz",
        "outputId": "4f77c122-e847-4ba1-8f83-165c29a67405"
      },
      "execution_count": null,
      "outputs": [
        {
          "output_type": "stream",
          "name": "stdout",
          "text": [
            "Coding Task: \n"
          ]
        },
        {
          "output_type": "execute_result",
          "data": {
            "text/plain": [
              "      Source            SS   DF          MS         F     p-unc       np2\n",
              "0  treatment    685.012552    1  685.012552  4.821094  0.028822  0.014662\n",
              "1     Within  46036.036350  324  142.086532       NaN       NaN       NaN"
            ],
            "text/html": [
              "\n",
              "\n",
              "  <div id=\"df-bbb4e8c4-a8ce-4c04-a78d-5f2213a74de5\">\n",
              "    <div class=\"colab-df-container\">\n",
              "      <div>\n",
              "<style scoped>\n",
              "    .dataframe tbody tr th:only-of-type {\n",
              "        vertical-align: middle;\n",
              "    }\n",
              "\n",
              "    .dataframe tbody tr th {\n",
              "        vertical-align: top;\n",
              "    }\n",
              "\n",
              "    .dataframe thead th {\n",
              "        text-align: right;\n",
              "    }\n",
              "</style>\n",
              "<table border=\"1\" class=\"dataframe\">\n",
              "  <thead>\n",
              "    <tr style=\"text-align: right;\">\n",
              "      <th></th>\n",
              "      <th>Source</th>\n",
              "      <th>SS</th>\n",
              "      <th>DF</th>\n",
              "      <th>MS</th>\n",
              "      <th>F</th>\n",
              "      <th>p-unc</th>\n",
              "      <th>np2</th>\n",
              "    </tr>\n",
              "  </thead>\n",
              "  <tbody>\n",
              "    <tr>\n",
              "      <th>0</th>\n",
              "      <td>treatment</td>\n",
              "      <td>685.012552</td>\n",
              "      <td>1</td>\n",
              "      <td>685.012552</td>\n",
              "      <td>4.821094</td>\n",
              "      <td>0.028822</td>\n",
              "      <td>0.014662</td>\n",
              "    </tr>\n",
              "    <tr>\n",
              "      <th>1</th>\n",
              "      <td>Within</td>\n",
              "      <td>46036.036350</td>\n",
              "      <td>324</td>\n",
              "      <td>142.086532</td>\n",
              "      <td>NaN</td>\n",
              "      <td>NaN</td>\n",
              "      <td>NaN</td>\n",
              "    </tr>\n",
              "  </tbody>\n",
              "</table>\n",
              "</div>\n",
              "      <button class=\"colab-df-convert\" onclick=\"convertToInteractive('df-bbb4e8c4-a8ce-4c04-a78d-5f2213a74de5')\"\n",
              "              title=\"Convert this dataframe to an interactive table.\"\n",
              "              style=\"display:none;\">\n",
              "\n",
              "  <svg xmlns=\"http://www.w3.org/2000/svg\" height=\"24px\"viewBox=\"0 0 24 24\"\n",
              "       width=\"24px\">\n",
              "    <path d=\"M0 0h24v24H0V0z\" fill=\"none\"/>\n",
              "    <path d=\"M18.56 5.44l.94 2.06.94-2.06 2.06-.94-2.06-.94-.94-2.06-.94 2.06-2.06.94zm-11 1L8.5 8.5l.94-2.06 2.06-.94-2.06-.94L8.5 2.5l-.94 2.06-2.06.94zm10 10l.94 2.06.94-2.06 2.06-.94-2.06-.94-.94-2.06-.94 2.06-2.06.94z\"/><path d=\"M17.41 7.96l-1.37-1.37c-.4-.4-.92-.59-1.43-.59-.52 0-1.04.2-1.43.59L10.3 9.45l-7.72 7.72c-.78.78-.78 2.05 0 2.83L4 21.41c.39.39.9.59 1.41.59.51 0 1.02-.2 1.41-.59l7.78-7.78 2.81-2.81c.8-.78.8-2.07 0-2.86zM5.41 20L4 18.59l7.72-7.72 1.47 1.35L5.41 20z\"/>\n",
              "  </svg>\n",
              "      </button>\n",
              "\n",
              "\n",
              "\n",
              "    <div id=\"df-6be4a2ee-236e-4685-8d87-02031874b527\">\n",
              "      <button class=\"colab-df-quickchart\" onclick=\"quickchart('df-6be4a2ee-236e-4685-8d87-02031874b527')\"\n",
              "              title=\"Suggest charts.\"\n",
              "              style=\"display:none;\">\n",
              "\n",
              "<svg xmlns=\"http://www.w3.org/2000/svg\" height=\"24px\"viewBox=\"0 0 24 24\"\n",
              "     width=\"24px\">\n",
              "    <g>\n",
              "        <path d=\"M19 3H5c-1.1 0-2 .9-2 2v14c0 1.1.9 2 2 2h14c1.1 0 2-.9 2-2V5c0-1.1-.9-2-2-2zM9 17H7v-7h2v7zm4 0h-2V7h2v10zm4 0h-2v-4h2v4z\"/>\n",
              "    </g>\n",
              "</svg>\n",
              "      </button>\n",
              "    </div>\n",
              "\n",
              "<style>\n",
              "  .colab-df-quickchart {\n",
              "    background-color: #E8F0FE;\n",
              "    border: none;\n",
              "    border-radius: 50%;\n",
              "    cursor: pointer;\n",
              "    display: none;\n",
              "    fill: #1967D2;\n",
              "    height: 32px;\n",
              "    padding: 0 0 0 0;\n",
              "    width: 32px;\n",
              "  }\n",
              "\n",
              "  .colab-df-quickchart:hover {\n",
              "    background-color: #E2EBFA;\n",
              "    box-shadow: 0px 1px 2px rgba(60, 64, 67, 0.3), 0px 1px 3px 1px rgba(60, 64, 67, 0.15);\n",
              "    fill: #174EA6;\n",
              "  }\n",
              "\n",
              "  [theme=dark] .colab-df-quickchart {\n",
              "    background-color: #3B4455;\n",
              "    fill: #D2E3FC;\n",
              "  }\n",
              "\n",
              "  [theme=dark] .colab-df-quickchart:hover {\n",
              "    background-color: #434B5C;\n",
              "    box-shadow: 0px 1px 3px 1px rgba(0, 0, 0, 0.15);\n",
              "    filter: drop-shadow(0px 1px 2px rgba(0, 0, 0, 0.3));\n",
              "    fill: #FFFFFF;\n",
              "  }\n",
              "</style>\n",
              "\n",
              "    <script>\n",
              "      async function quickchart(key) {\n",
              "        const containerElement = document.querySelector('#' + key);\n",
              "        const charts = await google.colab.kernel.invokeFunction(\n",
              "            'suggestCharts', [key], {});\n",
              "      }\n",
              "    </script>\n",
              "\n",
              "      <script>\n",
              "\n",
              "function displayQuickchartButton(domScope) {\n",
              "  let quickchartButtonEl =\n",
              "    domScope.querySelector('#df-6be4a2ee-236e-4685-8d87-02031874b527 button.colab-df-quickchart');\n",
              "  quickchartButtonEl.style.display =\n",
              "    google.colab.kernel.accessAllowed ? 'block' : 'none';\n",
              "}\n",
              "\n",
              "        displayQuickchartButton(document);\n",
              "      </script>\n",
              "      <style>\n",
              "    .colab-df-container {\n",
              "      display:flex;\n",
              "      flex-wrap:wrap;\n",
              "      gap: 12px;\n",
              "    }\n",
              "\n",
              "    .colab-df-convert {\n",
              "      background-color: #E8F0FE;\n",
              "      border: none;\n",
              "      border-radius: 50%;\n",
              "      cursor: pointer;\n",
              "      display: none;\n",
              "      fill: #1967D2;\n",
              "      height: 32px;\n",
              "      padding: 0 0 0 0;\n",
              "      width: 32px;\n",
              "    }\n",
              "\n",
              "    .colab-df-convert:hover {\n",
              "      background-color: #E2EBFA;\n",
              "      box-shadow: 0px 1px 2px rgba(60, 64, 67, 0.3), 0px 1px 3px 1px rgba(60, 64, 67, 0.15);\n",
              "      fill: #174EA6;\n",
              "    }\n",
              "\n",
              "    [theme=dark] .colab-df-convert {\n",
              "      background-color: #3B4455;\n",
              "      fill: #D2E3FC;\n",
              "    }\n",
              "\n",
              "    [theme=dark] .colab-df-convert:hover {\n",
              "      background-color: #434B5C;\n",
              "      box-shadow: 0px 1px 3px 1px rgba(0, 0, 0, 0.15);\n",
              "      filter: drop-shadow(0px 1px 2px rgba(0, 0, 0, 0.3));\n",
              "      fill: #FFFFFF;\n",
              "    }\n",
              "  </style>\n",
              "\n",
              "      <script>\n",
              "        const buttonEl =\n",
              "          document.querySelector('#df-bbb4e8c4-a8ce-4c04-a78d-5f2213a74de5 button.colab-df-convert');\n",
              "        buttonEl.style.display =\n",
              "          google.colab.kernel.accessAllowed ? 'block' : 'none';\n",
              "\n",
              "        async function convertToInteractive(key) {\n",
              "          const element = document.querySelector('#df-bbb4e8c4-a8ce-4c04-a78d-5f2213a74de5');\n",
              "          const dataTable =\n",
              "            await google.colab.kernel.invokeFunction('convertToInteractive',\n",
              "                                                     [key], {});\n",
              "          if (!dataTable) return;\n",
              "\n",
              "          const docLinkHtml = 'Like what you see? Visit the ' +\n",
              "            '<a target=\"_blank\" href=https://colab.research.google.com/notebooks/data_table.ipynb>data table notebook</a>'\n",
              "            + ' to learn more about interactive tables.';\n",
              "          element.innerHTML = '';\n",
              "          dataTable['output_type'] = 'display_data';\n",
              "          await google.colab.output.renderOutput(dataTable, element);\n",
              "          const docLink = document.createElement('div');\n",
              "          docLink.innerHTML = docLinkHtml;\n",
              "          element.appendChild(docLink);\n",
              "        }\n",
              "      </script>\n",
              "    </div>\n",
              "  </div>\n"
            ]
          },
          "metadata": {},
          "execution_count": 74
        }
      ]
    },
    {
      "cell_type": "code",
      "source": [
        "A = df.query(\"treatment=='A' & (problemType=='TREE' | problemType=='ARRAY') & accuracy==1\")[\"absDelta\"]\n",
        "B = df.query(\"treatment=='B' & (problemType=='TREE' | problemType=='ARRAY') & accuracy==1\")[\"absDelta\"]\n",
        "fvalue, pvalue = stats.f_oneway(A, B)\n",
        "\n",
        "print(\"Data Structures: \", fvalue, pvalue)\n"
      ],
      "metadata": {
        "colab": {
          "base_uri": "https://localhost:8080/"
        },
        "id": "I1CNNNbguctN",
        "outputId": "23da7c3a-f27e-4708-ee81-175dafc60204"
      },
      "execution_count": null,
      "outputs": [
        {
          "output_type": "stream",
          "name": "stdout",
          "text": [
            "Data Structures:  0.006041445666568266 0.9380659646179409\n"
          ]
        }
      ]
    },
    {
      "cell_type": "markdown",
      "source": [
        "\n",
        "\n",
        "---\n",
        "\n",
        "# Analysis - Context\n",
        "\n",
        "(a) Choose question type T. Among participant who were impaired by TMS on question type T (e.g., for response time), what are the mean, median and maximum impairments, normalized to the unimpaired mean?\n",
        "\n",
        "Note: looking at response times for correct anwsers only\n",
        "\n",
        "I define impaired as particpants whose average response time on treatments are longer than that of control\n",
        "\n",
        "\n"
      ],
      "metadata": {
        "id": "2ot9UmK337W7"
      }
    },
    {
      "cell_type": "code",
      "source": [
        "def percentChange(new, old):\n",
        "  return(((new-old)/old)*100)"
      ],
      "metadata": {
        "id": "8Y1fXBuibS5F"
      },
      "execution_count": null,
      "outputs": []
    },
    {
      "cell_type": "code",
      "source": [
        "def getImpaired(problem, treatment):\n",
        "  pID = df['ID'].unique()\n",
        "  impaired_pID_treatment = []\n",
        "  control_ = []\n",
        "\n",
        "  impaired_both = []\n",
        "  control_both = []\n",
        "\n",
        "  if treatment != 'both':\n",
        "    for id in pID:\n",
        "      control_avg = df_avg.loc[id, 'C', problem][0]\n",
        "      treatment_avg = df_avg.loc[id, treatment, problem][0]\n",
        "      if control_avg < treatment_avg :\n",
        "        impaired_pID_treatment.append(id)\n",
        "        control_.append(id)\n",
        "    return impaired_pID_treatment, control_\n",
        "\n",
        "  elif treatment == 'either':\n",
        "    for id in pID:\n",
        "      control_avg = df_avg.loc[id, 'C', problem][0]\n",
        "      A_avg = df_avg.loc[id, 'A', problem][0]\n",
        "      B_avg = df_avg.loc[id, 'B', problem][0]\n",
        "      if control_avg < A_avg or control_avg < B_avg:\n",
        "        impaired_both.append(id)\n",
        "        control_both.append(id)\n",
        "    return impaired_both, control_both\n",
        "\n",
        "  else:\n",
        "    for id in pID:\n",
        "      control_avg = df_avg.loc[id, 'C', problem][0]\n",
        "      A_avg = df_avg.loc[id, 'A', problem][0]\n",
        "      B_avg = df_avg.loc[id, 'B', problem][0]\n",
        "      if control_avg < A_avg and control_avg < B_avg:\n",
        "        impaired_both.append(id)\n",
        "        control_both.append(id)\n",
        "    return impaired_both, control_both\n"
      ],
      "metadata": {
        "id": "3cPRPzoy78Zk"
      },
      "execution_count": null,
      "outputs": []
    },
    {
      "cell_type": "code",
      "source": [
        "def printResults(problem, treatment):\n",
        "  if treatment != 'both':\n",
        "    impaired_A, control = getImpaired(problem, treatment)\n",
        "    impaired_A_avg = df[df['ID'].isin(impaired_A) & (df['treatment'] == treatment) & (df['problemType'] == problem) & (df['accuracy'] == 1)][\"responseTime\"].mean()\n",
        "    impaired_A_max = df[df['ID'].isin(impaired_A) & (df['treatment'] == treatment)& (df['problemType'] == problem) & (df['accuracy'] == 1)][\"responseTime\"].max()\n",
        "    impaired_control = df[df['ID'].isin(control) & (df['treatment'] == 'C') & (df['problemType'] == problem) &(df['accuracy'] == 1)][\"responseTime\"].mean()\n",
        "    print(\"Num particiapnts: \",len(impaired_A))\n",
        "    print(\"In treatment \", treatment, \":\")\n",
        "    print(\"Control Avg: \", impaired_control,\" Treatment Avg: \", impaired_A_avg,\"(\" + str(percentChange(impaired_A_avg, impaired_control)) + \"%)\" )\n",
        "    current_large = 0\n",
        "\n",
        "  else:\n",
        "    impaired_A, control = getImpaired(problem, 'both')\n",
        "    impaired_A_avg = df[df['ID'].isin(impaired_A) & (df['treatment'].isin(['A', 'B'])) & (df['problemType'] == problem) & (df['accuracy'] == 1)][\"responseTime\"].mean()\n",
        "    impaired_A_max = df[df['ID'].isin(impaired_A) & (df['treatment'].isin(['A', 'B'])) & (df['problemType'] == problem) & (df['accuracy'] == 1)][\"responseTime\"].max()\n",
        "    impaired_control = df[df['ID'].isin(control) & (df['treatment'] == 'C') & (df['problemType'] == problem) &(df['accuracy'] == 1)][\"responseTime\"].mean()\n",
        "    print(\"Num particiapnts: \",len(impaired_A))\n",
        "    print(\"In Both Treatments:\")\n",
        "    print(\"Control Avg: \", impaired_control,\" Treatment Avg: \", impaired_A_avg,\"(\" + str(percentChange(impaired_A_avg, impaired_control)) + \"%)\" )\n",
        "\n",
        "\n"
      ],
      "metadata": {
        "id": "F-JwvQJjBqOa"
      },
      "execution_count": null,
      "outputs": []
    },
    {
      "cell_type": "code",
      "source": [
        "problem = 'MENTAL'\n",
        "print(\"Num participants that were impaired by each treatment or both for problem type: \", problem)\n",
        "printResults(problem, 'A' )\n",
        "print()\n",
        "printResults(problem, 'B')\n",
        "print()\n",
        "printResults(problem, 'both')\n"
      ],
      "metadata": {
        "colab": {
          "base_uri": "https://localhost:8080/"
        },
        "id": "IP7ug2WlEE9c",
        "outputId": "89be4dcd-375d-43fe-f583-1e44d5d088bf"
      },
      "execution_count": null,
      "outputs": [
        {
          "output_type": "stream",
          "name": "stdout",
          "text": [
            "Num participants that were impaired by each treatment or both for problem type:  MENTAL\n",
            "Num particiapnts:  9\n",
            "In treatment  A :\n",
            "Control Avg:  11.720454321236446  Treatment Avg:  15.076616740994915 (28.635088092766114%)\n",
            "\n",
            "Num particiapnts:  10\n",
            "In treatment  B :\n",
            "Control Avg:  11.925567635367898  Treatment Avg:  15.71820012870289 (31.802532250851563%)\n",
            "\n",
            "Num particiapnts:  6\n",
            "In Both Treatments:\n",
            "Control Avg:  10.868252400124428  Treatment Avg:  14.81054130665542 (36.27343901661557%)\n"
          ]
        }
      ]
    },
    {
      "cell_type": "code",
      "source": [
        "problem = 'CODING'\n",
        "\n",
        "print(\"Num participants that were impaired by each treatment or both for problem type: \", problem)\n",
        "printResults(problem, 'A' )\n",
        "print()\n",
        "printResults(problem, 'B')\n",
        "print()\n",
        "printResults(problem, 'both')\n"
      ],
      "metadata": {
        "colab": {
          "base_uri": "https://localhost:8080/"
        },
        "id": "6dEvmK3U1Y2P",
        "outputId": "193f2b58-e398-4472-de90-35674a7691d6"
      },
      "execution_count": null,
      "outputs": [
        {
          "output_type": "stream",
          "name": "stdout",
          "text": [
            "Num participants that were impaired by each treatment or both for problem type:  CODING\n",
            "Num particiapnts:  7\n",
            "In treatment  A :\n",
            "Control Avg:  21.484772036715253  Treatment Avg:  28.412041775974227 (32.24269602405363%)\n",
            "\n",
            "Num particiapnts:  10\n",
            "In treatment  B :\n",
            "Control Avg:  22.780796337971644  Treatment Avg:  26.11565030742259 (14.638882328675765%)\n",
            "\n",
            "Num particiapnts:  7\n",
            "In Both Treatments:\n",
            "Control Avg:  21.484772036715253  Treatment Avg:  27.186425580918414 (26.538115156444874%)\n"
          ]
        }
      ]
    },
    {
      "cell_type": "code",
      "source": [
        "problem = 'TREE'\n",
        "\n",
        "print(\"Num participants that were impaired by each treatment or both for problem type: \", problem)\n",
        "printResults(problem, 'A' )\n",
        "print()\n",
        "printResults(problem, 'B')\n",
        "print()\n",
        "printResults(problem, 'both')\n"
      ],
      "metadata": {
        "colab": {
          "base_uri": "https://localhost:8080/"
        },
        "id": "QRefe2MW7llG",
        "outputId": "0cfe6608-0abe-4eaa-de0f-8b7f010f9d85"
      },
      "execution_count": null,
      "outputs": [
        {
          "output_type": "stream",
          "name": "stdout",
          "text": [
            "Num participants that were impaired by each treatment or both for problem type:  TREE\n",
            "Num particiapnts:  7\n",
            "In treatment  A :\n",
            "Control Avg:  17.766014976704373  Treatment Avg:  24.139142403168428 (35.87257713573245%)\n",
            "\n",
            "Num particiapnts:  9\n",
            "In treatment  B :\n",
            "Control Avg:  20.22796693328739  Treatment Avg:  26.48043846539969 (30.910034373366287%)\n",
            "\n",
            "Num particiapnts:  5\n",
            "In Both Treatments:\n",
            "Control Avg:  17.384727824818004  Treatment Avg:  23.99214399614798 (38.00701534077165%)\n"
          ]
        }
      ]
    },
    {
      "cell_type": "code",
      "source": [
        "problem = 'ARRAY'\n",
        "\n",
        "print(\"Num participants that were impaired by each treatment or both for problem type: \", problem)\n",
        "printResults(problem, 'A' )\n",
        "print()\n",
        "printResults(problem, 'B')\n",
        "print()\n",
        "printResults(problem, 'both')"
      ],
      "metadata": {
        "colab": {
          "base_uri": "https://localhost:8080/"
        },
        "id": "X4JLQaxejA_n",
        "outputId": "b26b33ff-4e78-48d6-d0a7-49c56d9a394e"
      },
      "execution_count": null,
      "outputs": [
        {
          "output_type": "stream",
          "name": "stdout",
          "text": [
            "Num participants that were impaired by each treatment or both for problem type:  ARRAY\n",
            "Num particiapnts:  5\n",
            "In treatment  A :\n",
            "Control Avg:  15.603008711779559  Treatment Avg:  21.355588049258827 (36.86839790800305%)\n",
            "\n",
            "Num particiapnts:  5\n",
            "In treatment  B :\n",
            "Control Avg:  11.430545505724455  Treatment Avg:  16.51001125803589 (44.437649539714656%)\n",
            "\n",
            "Num particiapnts:  2\n",
            "In Both Treatments:\n",
            "Control Avg:  10.57371125013932  Treatment Avg:  20.779299573464826 (96.51850785305902%)\n"
          ]
        }
      ]
    },
    {
      "cell_type": "markdown",
      "source": [
        "\n",
        "\n",
        "---\n",
        "\n",
        "Repeat this analysis for participants who were improved by TMS.\n"
      ],
      "metadata": {
        "id": "h5CkfiU0fdlj"
      }
    },
    {
      "cell_type": "code",
      "source": [
        "def getImproved(problem, treatment):\n",
        "  pID = df['ID'].unique()\n",
        "  improved_pID_treatment = []\n",
        "  control_ = []\n",
        "\n",
        "  improved_both = []\n",
        "  control_both = []\n",
        "\n",
        "  if treatment != 'both':\n",
        "    for id in pID:\n",
        "      control_avg = df_avg.loc[id, 'C', problem][0]\n",
        "      treatment_avg = df_avg.loc[id, treatment, problem][0]\n",
        "      if control_avg > treatment_avg :\n",
        "        improved_pID_treatment.append(id)\n",
        "        control_.append(id)\n",
        "    return improved_pID_treatment, control_\n",
        "\n",
        "  else:\n",
        "    for id in pID:\n",
        "      control_avg = df_avg.loc[id, 'C', problem][0]\n",
        "      A_avg = df_avg.loc[id, 'A', problem][0]\n",
        "      B_avg = df_avg.loc[id, 'B', problem][0]\n",
        "      if control_avg > A_avg and control_avg > B_avg:\n",
        "        improved_both.append(id)\n",
        "        control_both.append(id)\n",
        "    return improved_both, control_both\n"
      ],
      "metadata": {
        "id": "OzB74xdwJI7e"
      },
      "execution_count": null,
      "outputs": []
    },
    {
      "cell_type": "code",
      "source": [
        "def printResults_improve(problem, treatment):\n",
        "  if treatment != 'both':\n",
        "    improved_A, control = getImproved(problem, treatment)\n",
        "    improved_A_avg = df[df['ID'].isin(improved_A) & (df['treatment'] == treatment) & (df['problemType'] == problem) & (df['accuracy'] == 1)][\"responseTime\"].mean()\n",
        "    improved_control = df[df['ID'].isin(control) & (df['treatment'] == 'C') & (df['problemType'] == problem) &(df['accuracy'] == 1)][\"responseTime\"].mean()\n",
        "    print(\"Num particiapnts: \",len(improved_A))\n",
        "    print(\"In treatment \", treatment, \":\")\n",
        "    print(\"Control Avg: \", improved_control,\" Treatment Avg: \", improved_A_avg,\"(\" + str(percentChange(improved_A_avg, improved_control)) + \"%)\" )\n",
        "    #print(df[df['responseTime'] == impaired_A_max]['ID'])\n",
        "    current_large = 0\n",
        "\n",
        "  else:\n",
        "    improved_A, control = getImproved(problem, 'both')\n",
        "    improved_A_avg = df[df['ID'].isin(improved_A) & (df['treatment'].isin(['A', 'B'])) & (df['problemType'] == problem) & (df['accuracy'] == 1)][\"responseTime\"].mean()\n",
        "    improved_control = df[df['ID'].isin(control) & (df['treatment'] == 'C') & (df['problemType'] == problem) &(df['accuracy'] == 1)][\"responseTime\"].mean()\n",
        "\n",
        "    print(\"Num particiapnts: \",len(improved_A))\n",
        "    print(\"In Both Treatments:\")\n",
        "    print(\"Control Avg: \", improved_control,\" Treatment Avg: \", improved_A_avg,\"(\" + str(percentChange(improved_A_avg, improved_control)) + \"%)\" )\n",
        "\n",
        "\n",
        "\n",
        "\n",
        "\n"
      ],
      "metadata": {
        "id": "CH-9RfdGJh2M"
      },
      "execution_count": null,
      "outputs": []
    },
    {
      "cell_type": "code",
      "source": [
        "problem = 'MENTAL'\n",
        "\n",
        "print(\"Num participants that were improved by each treatment or both for problem type: \", problem)\n",
        "printResults(problem, 'A' )\n",
        "print()\n",
        "printResults(problem, 'B')\n",
        "print()\n",
        "printResults(problem, 'both')"
      ],
      "metadata": {
        "colab": {
          "base_uri": "https://localhost:8080/"
        },
        "id": "YUDIY5dGJT2l",
        "outputId": "4cd88eee-e690-40bd-e482-04952a7bb7b4"
      },
      "execution_count": null,
      "outputs": [
        {
          "output_type": "stream",
          "name": "stdout",
          "text": [
            "Num participants that were improved by each treatment or both for problem type:  MENTAL\n",
            "Num particiapnts:  9\n",
            "In treatment  A :\n",
            "Control Avg:  11.720454321236446  Treatment Avg:  15.076616740994915 (28.635088092766114%)\n",
            "\n",
            "Num particiapnts:  10\n",
            "In treatment  B :\n",
            "Control Avg:  11.925567635367898  Treatment Avg:  15.71820012870289 (31.802532250851563%)\n",
            "\n",
            "Num particiapnts:  6\n",
            "In Both Treatments:\n",
            "Control Avg:  10.868252400124428  Treatment Avg:  14.81054130665542 (36.27343901661557%)\n"
          ]
        }
      ]
    },
    {
      "cell_type": "code",
      "source": [
        "problem = 'CODING'\n",
        "\n",
        "print(\"Num participants that were improved by each treatment or both for problem type: \", problem)\n",
        "printResults(problem, 'A' )\n",
        "print()\n",
        "printResults(problem, 'B')\n",
        "print()\n",
        "printResults(problem, 'both')"
      ],
      "metadata": {
        "colab": {
          "base_uri": "https://localhost:8080/"
        },
        "id": "AHo_b4sZfgvH",
        "outputId": "048a2ec6-cb06-4b3e-dc57-104970c261bd"
      },
      "execution_count": null,
      "outputs": [
        {
          "output_type": "stream",
          "name": "stdout",
          "text": [
            "Num participants that were improved by each treatment or both for problem type:  CODING\n",
            "Num particiapnts:  7\n",
            "In treatment  A :\n",
            "Control Avg:  21.484772036715253  Treatment Avg:  28.412041775974227 (32.24269602405363%)\n",
            "\n",
            "Num particiapnts:  10\n",
            "In treatment  B :\n",
            "Control Avg:  22.780796337971644  Treatment Avg:  26.11565030742259 (14.638882328675765%)\n",
            "\n",
            "Num particiapnts:  7\n",
            "In Both Treatments:\n",
            "Control Avg:  21.484772036715253  Treatment Avg:  27.186425580918414 (26.538115156444874%)\n"
          ]
        }
      ]
    },
    {
      "cell_type": "code",
      "source": [
        "problem = 'TREE'\n",
        "\n",
        "print(\"Num participants that were improved by each treatment or both for problem type: \", problem)\n",
        "printResults(problem, 'A' )\n",
        "print()\n",
        "printResults(problem, 'B')\n",
        "print()\n",
        "printResults(problem, 'both')"
      ],
      "metadata": {
        "colab": {
          "base_uri": "https://localhost:8080/"
        },
        "id": "qwkLIViYk0qG",
        "outputId": "4450c49f-3756-40a4-a703-4bc8dcb8d50d"
      },
      "execution_count": null,
      "outputs": [
        {
          "output_type": "stream",
          "name": "stdout",
          "text": [
            "Num participants that were improved by each treatment or both for problem type:  TREE\n",
            "Num particiapnts:  7\n",
            "In treatment  A :\n",
            "Control Avg:  17.766014976704373  Treatment Avg:  24.139142403168428 (35.87257713573245%)\n",
            "\n",
            "Num particiapnts:  9\n",
            "In treatment  B :\n",
            "Control Avg:  20.22796693328739  Treatment Avg:  26.48043846539969 (30.910034373366287%)\n",
            "\n",
            "Num particiapnts:  5\n",
            "In Both Treatments:\n",
            "Control Avg:  17.384727824818004  Treatment Avg:  23.99214399614798 (38.00701534077165%)\n"
          ]
        }
      ]
    },
    {
      "cell_type": "code",
      "source": [
        "problem = 'ARRAY'\n",
        "\n",
        "print(\"Num participants that were improved by each treatment or both for problem type: \", problem)\n",
        "printResults(problem, 'A' )\n",
        "print()\n",
        "printResults(problem, 'B')\n",
        "print()\n",
        "printResults(problem, 'both')"
      ],
      "metadata": {
        "colab": {
          "base_uri": "https://localhost:8080/"
        },
        "id": "cdcDAv9ylXUI",
        "outputId": "012fb0c6-e476-4fa1-b0c7-59feb56402df"
      },
      "execution_count": null,
      "outputs": [
        {
          "output_type": "stream",
          "name": "stdout",
          "text": [
            "Num participants that were improved by each treatment or both for problem type:  ARRAY\n",
            "Num particiapnts:  5\n",
            "In treatment  A :\n",
            "Control Avg:  15.603008711779559  Treatment Avg:  21.355588049258827 (36.86839790800305%)\n",
            "\n",
            "Num particiapnts:  5\n",
            "In treatment  B :\n",
            "Control Avg:  11.430545505724455  Treatment Avg:  16.51001125803589 (44.437649539714656%)\n",
            "\n",
            "Num particiapnts:  2\n",
            "In Both Treatments:\n",
            "Control Avg:  10.57371125013932  Treatment Avg:  20.779299573464826 (96.51850785305902%)\n"
          ]
        }
      ]
    },
    {
      "cell_type": "markdown",
      "source": [
        "\n",
        "\n",
        "---\n",
        "\n",
        "\n",
        "\n"
      ],
      "metadata": {
        "id": "q3LlJVOollda"
      }
    },
    {
      "cell_type": "code",
      "source": [
        "#Differences in absolute deltas of response times over treatment and problem types DATA STRUCTURE\n",
        "data1 = df.query(\"treatment=='A' & accuracy==1 & (problemType =='TREE' | problemType =='ARRAY') & occupation=='Computing Student (undergraduate)'\")[\"absDelta\"]\n",
        "data2 = df.query(\"treatment=='A' & accuracy==1 & (problemType =='TREE' | problemType =='ARRAY') & occupation=='Computing Student (graduate)'\")[\"absDelta\"]\n",
        "fvalue, pvalue = stats.f_oneway(data1, data2)\n",
        "print(\"fvalue: \",fvalue, \"pvalue: \",pvalue)\n",
        "print(\"Average:\")\n",
        "print(\"Grad CS (MEAN): \", data2.mean())\n",
        "print(\"undergrad CS (MEAN): \", data1.mean())\n",
        "\n"
      ],
      "metadata": {
        "colab": {
          "base_uri": "https://localhost:8080/"
        },
        "id": "QIjucYlHKXzM",
        "outputId": "d4710f48-8055-4aa4-e389-a57a72982298"
      },
      "execution_count": null,
      "outputs": [
        {
          "output_type": "stream",
          "name": "stdout",
          "text": [
            "fvalue:  3.1473877718095067 pvalue:  0.07723257905062081\n",
            "Average:\n",
            "Grad CS (MEAN):  8.221003188278484\n",
            "undergrad CS (MEAN):  10.304022067827194\n"
          ]
        }
      ]
    },
    {
      "cell_type": "markdown",
      "source": [
        "\n",
        "\n",
        "---\n",
        "\n",
        "\n",
        "Look if second half of responses (over all people) are faster than first half in s.s. Manner?\n"
      ],
      "metadata": {
        "id": "GiTMPvTnSU2W"
      }
    },
    {
      "cell_type": "code",
      "source": [
        "firstHalf = df.query(\"treatment == 'A' & problemNumber < 30 & problemType=='TREE' \")['responseTime']\n",
        "secondHalf = df.query(\"treatment == 'A' & problemNumber > 30 & problemType=='TREE' \")['responseTime']\n",
        "\n",
        "fvalue, pvalue = stats.f_oneway(firstHalf, secondHalf)\n",
        "print( fvalue, pvalue)\n",
        "print(firstHalf.mean(), secondHalf.mean())\n",
        "\n",
        "\n",
        "#from sklearn.preprocessing import LabelEncoder\n",
        "\n",
        "impaired = df.query(\"treatment=='A' & accuracy==1 & problemType =='TREE'\")\n",
        "impaired = impaired[impaired['sessionNo'].notna() ]\n",
        "\n",
        "ordinal_mapping = {'version1': 1, 'version2': 2, 'version3': 3}\n",
        "impaired['version'] = impaired['version'].map(ordinal_mapping)\n",
        "\n",
        "\n",
        "X = impaired[['version', 'sessionNo', 'problemNumber']]\n",
        "y = impaired['responseTime']\n",
        "\n",
        "model = sm.OLS(y, X).fit()\n",
        "print(model.summary())\n",
        "\n"
      ],
      "metadata": {
        "colab": {
          "base_uri": "https://localhost:8080/"
        },
        "id": "bSNjhKCXSRVO",
        "outputId": "07b69c59-b2ad-4724-ddd0-ea159f5293a1"
      },
      "execution_count": null,
      "outputs": [
        {
          "output_type": "stream",
          "name": "stdout",
          "text": [
            "4.257840120057699 0.040114553350282404\n",
            "22.593954414768405 27.439966249850148\n",
            "                                 OLS Regression Results                                \n",
            "=======================================================================================\n",
            "Dep. Variable:           responseTime   R-squared (uncentered):                   0.629\n",
            "Model:                            OLS   Adj. R-squared (uncentered):              0.623\n",
            "Method:                 Least Squares   F-statistic:                              107.5\n",
            "Date:                Wed, 26 Jul 2023   Prob (F-statistic):                    1.02e-40\n",
            "Time:                        19:52:14   Log-Likelihood:                         -815.96\n",
            "No. Observations:                 193   AIC:                                      1638.\n",
            "Df Residuals:                     190   BIC:                                      1648.\n",
            "Df Model:                           3                                                  \n",
            "Covariance Type:            nonrobust                                                  \n",
            "=================================================================================\n",
            "                    coef    std err          t      P>|t|      [0.025      0.975]\n",
            "---------------------------------------------------------------------------------\n",
            "version           3.0909      1.228      2.517      0.013       0.669       5.513\n",
            "sessionNo         3.3640      1.101      3.054      0.003       1.192       5.536\n",
            "problemNumber     0.2349      0.065      3.593      0.000       0.106       0.364\n",
            "==============================================================================\n",
            "Omnibus:                       57.486   Durbin-Watson:                   1.225\n",
            "Prob(Omnibus):                  0.000   Jarque-Bera (JB):              118.371\n",
            "Skew:                           1.407   Prob(JB):                     1.98e-26\n",
            "Kurtosis:                       5.607   Cond. No.                         41.9\n",
            "==============================================================================\n",
            "\n",
            "Notes:\n",
            "[1] R² is computed without centering (uncentered) since the model does not contain a constant.\n",
            "[2] Standard Errors assume that the covariance matrix of the errors is correctly specified.\n"
          ]
        }
      ]
    },
    {
      "cell_type": "markdown",
      "source": [
        "\n",
        "\n",
        "---\n",
        "\n",
        "\n",
        "\n",
        "#TMS and participant perception questions\n",
        "\n",
        "(1) Participants were asked to rate the diffciculty of the problems for the current session. They were also asked to rate the difficulty in comparison to the previous session. These are represented in the form of a survey. Percieved difficulty changes were evaluated via statements such as \"less\", \"more\", and \"same\". Difficulty of the current session were rated in terms of a 5-scale Likert."
      ],
      "metadata": {
        "id": "dOkj3G7LwElL"
      }
    },
    {
      "cell_type": "code",
      "source": [
        "from sklearn.preprocessing import LabelEncoder\n",
        "\n",
        "sub = df[['ID','changeMrDifficulty', 'sessionNo', 'treatment']].drop_duplicates()\n",
        "sub = sub.query('sessionNo != 1')\n",
        "\n",
        "crosstab = pd.crosstab(index = [sub['changeMrDifficulty'], sub['sessionNo']], columns = sub['treatment'])\n",
        "print(crosstab, \"\\n\")\n",
        "\n",
        "stats.chi2_contingency(crosstab)\n",
        "\n"
      ],
      "metadata": {
        "colab": {
          "base_uri": "https://localhost:8080/"
        },
        "id": "mU-sx2yJwEA9",
        "outputId": "aa24809d-8e11-49ee-d752-ebaae938a0ef"
      },
      "execution_count": null,
      "outputs": [
        {
          "output_type": "stream",
          "name": "stdout",
          "text": [
            "treatment                     A  B  C\n",
            "changeMrDifficulty sessionNo         \n",
            "less               2.0        3  1  5\n",
            "                   3.0        3  2  1\n",
            "more               2.0        1  0  0\n",
            "                   3.0        2  2  0\n",
            "same               2.0        0  3  1\n",
            "                   3.0        1  1  1 \n",
            "\n"
          ]
        },
        {
          "output_type": "execute_result",
          "data": {
            "text/plain": [
              "Chi2ContingencyResult(statistic=11.039583333333335, pvalue=0.35444242317929997, dof=10, expected_freq=array([[3.33333333, 3.        , 2.66666667],\n",
              "       [2.22222222, 2.        , 1.77777778],\n",
              "       [0.37037037, 0.33333333, 0.2962963 ],\n",
              "       [1.48148148, 1.33333333, 1.18518519],\n",
              "       [1.48148148, 1.33333333, 1.18518519],\n",
              "       [1.11111111, 1.        , 0.88888889]]))"
            ]
          },
          "metadata": {},
          "execution_count": 9
        }
      ]
    },
    {
      "cell_type": "code",
      "source": [
        "sub = df[['ID','changeProgramDifficulty', 'sessionNo', 'treatment']].drop_duplicates()\n",
        "sub = sub.query('sessionNo != 1')\n",
        "\n",
        "crosstab = pd.crosstab(index = [sub['changeProgramDifficulty']], columns = sub['sessionNo'])\n",
        "\n",
        "print(crosstab, \"\\n\")\n",
        "\n",
        "stats.chi2_contingency(crosstab)\n",
        "\n"
      ],
      "metadata": {
        "colab": {
          "base_uri": "https://localhost:8080/"
        },
        "id": "hZJ59k6M0nVj",
        "outputId": "2585e4d9-253d-4bfd-ac0a-66a43be8aced"
      },
      "execution_count": null,
      "outputs": [
        {
          "output_type": "stream",
          "name": "stdout",
          "text": [
            "sessionNo                2.0  3.0\n",
            "changeProgramDifficulty          \n",
            "less                       9    6\n",
            "more                       1    4\n",
            "same                       4    3 \n",
            "\n"
          ]
        },
        {
          "output_type": "execute_result",
          "data": {
            "text/plain": [
              "Chi2ContingencyResult(statistic=2.509262166405024, pvalue=0.28518103689516255, dof=2, expected_freq=array([[7.77777778, 7.22222222],\n",
              "       [2.59259259, 2.40740741],\n",
              "       [3.62962963, 3.37037037]]))"
            ]
          },
          "metadata": {},
          "execution_count": 94
        }
      ]
    },
    {
      "cell_type": "code",
      "source": [
        "sub = df[['ID','mrDifficulty', 'sessionNo', 'treatment']].drop_duplicates()\n",
        "\n",
        "crosstab = pd.crosstab(index = [sub['mrDifficulty']], columns = sub['sessionNo'])\n",
        "\n",
        "print(crosstab, \"\\n\")\n",
        "\n",
        "\n",
        "stats.chi2_contingency(crosstab)\n",
        "\n"
      ],
      "metadata": {
        "colab": {
          "base_uri": "https://localhost:8080/"
        },
        "id": "lr_yDTJQ0xGB",
        "outputId": "34e89b87-0ca4-409b-8c4f-4a77a249d27c"
      },
      "execution_count": null,
      "outputs": [
        {
          "output_type": "stream",
          "name": "stdout",
          "text": [
            "sessionNo     1.0  2.0  3.0\n",
            "mrDifficulty               \n",
            "1.0             1    3    3\n",
            "2.0             4    4    3\n",
            "3.0             0    4    3\n",
            "4.0             6    3    4\n",
            "5.0             1    0    0 \n",
            "\n"
          ]
        },
        {
          "output_type": "execute_result",
          "data": {
            "text/plain": [
              "Chi2ContingencyResult(statistic=8.232196375053519, pvalue=0.4111236008115166, dof=8, expected_freq=array([[2.15384615, 2.51282051, 2.33333333],\n",
              "       [3.38461538, 3.94871795, 3.66666667],\n",
              "       [2.15384615, 2.51282051, 2.33333333],\n",
              "       [4.        , 4.66666667, 4.33333333],\n",
              "       [0.30769231, 0.35897436, 0.33333333]]))"
            ]
          },
          "metadata": {},
          "execution_count": 95
        }
      ]
    },
    {
      "cell_type": "code",
      "source": [
        "sub = df[['ID','programDifficulty', 'sessionNo', 'treatment']].drop_duplicates()\n",
        "\n",
        "crosstab = pd.crosstab(index = [sub['programDifficulty']], columns = sub['sessionNo'])\n",
        "\n",
        "print(crosstab, \"\\n\")\n",
        "\n",
        "\n",
        "stats.chi2_contingency(crosstab)\n"
      ],
      "metadata": {
        "colab": {
          "base_uri": "https://localhost:8080/"
        },
        "id": "n1ZclZ9p0-6q",
        "outputId": "5cf59d73-de63-4f87-b300-c4a5eac1acb6"
      },
      "execution_count": null,
      "outputs": [
        {
          "output_type": "stream",
          "name": "stdout",
          "text": [
            "sessionNo          1.0  2.0  3.0\n",
            "programDifficulty               \n",
            "1.0                  2    1    2\n",
            "2.0                  3    3    5\n",
            "3.0                  4    7    5\n",
            "4.0                  3    2    1\n",
            "5.0                  0    1    0 \n",
            "\n"
          ]
        },
        {
          "output_type": "execute_result",
          "data": {
            "text/plain": [
              "Chi2ContingencyResult(statistic=4.800243506493506, pvalue=0.7786974624959159, dof=8, expected_freq=array([[1.53846154, 1.79487179, 1.66666667],\n",
              "       [3.38461538, 3.94871795, 3.66666667],\n",
              "       [4.92307692, 5.74358974, 5.33333333],\n",
              "       [1.84615385, 2.15384615, 2.        ],\n",
              "       [0.30769231, 0.35897436, 0.33333333]]))"
            ]
          },
          "metadata": {},
          "execution_count": 96
        }
      ]
    }
  ]
}